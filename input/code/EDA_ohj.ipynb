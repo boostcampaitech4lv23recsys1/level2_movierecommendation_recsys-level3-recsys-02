{
 "cells": [
  {
   "attachments": {},
   "cell_type": "markdown",
   "metadata": {},
   "source": [
    "### data\n",
    "    ├── directors.tsv\n",
    "    ├── genres.tsv\n",
    "    ├── titles.tsv\n",
    "    ├── train_ratings.csv\n",
    "    ├── writers.tsv\n",
    "    └── years.tsv\n",
    "    \n",
    "1. *train_ratings.csv* : 전체 훈련 데이터.\n",
    "2. *directors.tsv*, *genres.tsv*, *writers.tsv*, *years.tsv*, *titles.tsv* : 영화의 side-information 데이터."
   ]
  },
  {
   "cell_type": "code",
   "execution_count": 1,
   "metadata": {},
   "outputs": [],
   "source": [
    "import pandas as pd\n",
    "import numpy as np\n",
    "import os"
   ]
  },
  {
   "cell_type": "code",
   "execution_count": 2,
   "metadata": {},
   "outputs": [],
   "source": [
    "data_path = '/opt/ml/input/data/train'"
   ]
  },
  {
   "attachments": {},
   "cell_type": "markdown",
   "metadata": {},
   "source": [
    "### Main Inforamtion"
   ]
  },
  {
   "cell_type": "code",
   "execution_count": 3,
   "metadata": {},
   "outputs": [],
   "source": [
    "train_df = pd.read_csv(os.path.join(data_path, 'train_ratings.csv')) # 전체 학습 데이터"
   ]
  },
  {
   "cell_type": "code",
   "execution_count": 4,
   "metadata": {},
   "outputs": [
    {
     "name": "stdout",
     "output_type": "stream",
     "text": [
      "<class 'pandas.core.frame.DataFrame'>\n",
      "RangeIndex: 5154471 entries, 0 to 5154470\n",
      "Data columns (total 3 columns):\n",
      " #   Column  Dtype\n",
      "---  ------  -----\n",
      " 0   user    int64\n",
      " 1   item    int64\n",
      " 2   time    int64\n",
      "dtypes: int64(3)\n",
      "memory usage: 118.0 MB\n"
     ]
    },
    {
     "data": {
      "text/html": [
       "<div>\n",
       "<style scoped>\n",
       "    .dataframe tbody tr th:only-of-type {\n",
       "        vertical-align: middle;\n",
       "    }\n",
       "\n",
       "    .dataframe tbody tr th {\n",
       "        vertical-align: top;\n",
       "    }\n",
       "\n",
       "    .dataframe thead th {\n",
       "        text-align: right;\n",
       "    }\n",
       "</style>\n",
       "<table border=\"1\" class=\"dataframe\">\n",
       "  <thead>\n",
       "    <tr style=\"text-align: right;\">\n",
       "      <th></th>\n",
       "      <th>user</th>\n",
       "      <th>item</th>\n",
       "      <th>time</th>\n",
       "    </tr>\n",
       "  </thead>\n",
       "  <tbody>\n",
       "    <tr>\n",
       "      <th>0</th>\n",
       "      <td>11</td>\n",
       "      <td>4643</td>\n",
       "      <td>1230782529</td>\n",
       "    </tr>\n",
       "    <tr>\n",
       "      <th>1</th>\n",
       "      <td>11</td>\n",
       "      <td>170</td>\n",
       "      <td>1230782534</td>\n",
       "    </tr>\n",
       "    <tr>\n",
       "      <th>2</th>\n",
       "      <td>11</td>\n",
       "      <td>531</td>\n",
       "      <td>1230782539</td>\n",
       "    </tr>\n",
       "    <tr>\n",
       "      <th>3</th>\n",
       "      <td>11</td>\n",
       "      <td>616</td>\n",
       "      <td>1230782542</td>\n",
       "    </tr>\n",
       "    <tr>\n",
       "      <th>4</th>\n",
       "      <td>11</td>\n",
       "      <td>2140</td>\n",
       "      <td>1230782563</td>\n",
       "    </tr>\n",
       "  </tbody>\n",
       "</table>\n",
       "</div>"
      ],
      "text/plain": [
       "   user  item        time\n",
       "0    11  4643  1230782529\n",
       "1    11   170  1230782534\n",
       "2    11   531  1230782539\n",
       "3    11   616  1230782542\n",
       "4    11  2140  1230782563"
      ]
     },
     "execution_count": 4,
     "metadata": {},
     "output_type": "execute_result"
    }
   ],
   "source": [
    "train_df.info()\n",
    "train_df.head(5)"
   ]
  },
  {
   "cell_type": "code",
   "execution_count": 5,
   "metadata": {},
   "outputs": [
    {
     "data": {
      "text/plain": [
       "5154471"
      ]
     },
     "execution_count": 5,
     "metadata": {},
     "output_type": "execute_result"
    }
   ],
   "source": [
    "len(train_df)"
   ]
  },
  {
   "attachments": {},
   "cell_type": "markdown",
   "metadata": {},
   "source": [
    "data sparsity"
   ]
  },
  {
   "cell_type": "code",
   "execution_count": 6,
   "metadata": {},
   "outputs": [
    {
     "name": "stdout",
     "output_type": "stream",
     "text": [
      "Number of unique train users:  31360\n",
      "Number of unique train items:  6807\n"
     ]
    }
   ],
   "source": [
    "num_train_users = train_df['user'].nunique()\n",
    "num_train_items = train_df['item'].nunique()\n",
    "\n",
    "print (\"Number of unique train users: \", num_train_users)\n",
    "print (\"Number of unique train items: \", num_train_items)"
   ]
  },
  {
   "cell_type": "code",
   "execution_count": 7,
   "metadata": {},
   "outputs": [
    {
     "name": "stdout",
     "output_type": "stream",
     "text": [
      "Number of unique train times:  5074973\n"
     ]
    }
   ],
   "source": [
    "num_train_time = train_df['time'].nunique()\n",
    "print (\"Number of unique train times: \", num_train_time)"
   ]
  },
  {
   "cell_type": "code",
   "execution_count": 8,
   "metadata": {},
   "outputs": [
    {
     "name": "stdout",
     "output_type": "stream",
     "text": [
      "Data sparsity ratio:  0.9758536052697853\n"
     ]
    }
   ],
   "source": [
    "print(\"Data sparsity ratio: \", 1 - len(train_df) / (num_train_users * num_train_items))"
   ]
  },
  {
   "attachments": {},
   "cell_type": "markdown",
   "metadata": {},
   "source": [
    "user별 item 분포 확인"
   ]
  },
  {
   "cell_type": "code",
   "execution_count": 9,
   "metadata": {},
   "outputs": [
    {
     "data": {
      "text/plain": [
       "31360"
      ]
     },
     "execution_count": 9,
     "metadata": {},
     "output_type": "execute_result"
    }
   ],
   "source": [
    "train_df['user'].nunique()"
   ]
  },
  {
   "cell_type": "code",
   "execution_count": 10,
   "metadata": {},
   "outputs": [
    {
     "data": {
      "text/plain": [
       "<AxesSubplot: >"
      ]
     },
     "execution_count": 10,
     "metadata": {},
     "output_type": "execute_result"
    },
    {
     "data": {
      "image/png": "[encoded data removed]",
      "text/plain": [
       "<Figure size 720x576 with 1 Axes>"
      ]
     },
     "metadata": {
      "needs_background": "light"
     },
     "output_type": "display_data"
    }
   ],
   "source": [
    "user_grouped = train_df.groupby(train_df['user'])['item'].count()\n",
    "user_grouped.hist(figsize=(10,8))"
   ]
  },
  {
   "cell_type": "code",
   "execution_count": 11,
   "metadata": {},
   "outputs": [
    {
     "data": {
      "text/plain": [
       "<AxesSubplot: >"
      ]
     },
     "execution_count": 11,
     "metadata": {},
     "output_type": "execute_result"
    },
    {
     "data": {
      "image/png": "[encoded data removed]",
      "text/plain": [
       "<Figure size 720x576 with 1 Axes>"
      ]
     },
     "metadata": {
      "needs_background": "light"
     },
     "output_type": "display_data"
    }
   ],
   "source": [
    "# 상위 100명의 유저들의 영화 시청 개수\n",
    "train_df['user'].value_counts()[:100].hist(bins=100, figsize=(10,8))"
   ]
  },
  {
   "cell_type": "code",
   "execution_count": 12,
   "metadata": {},
   "outputs": [
    {
     "data": {
      "text/plain": [
       "<AxesSubplot: >"
      ]
     },
     "execution_count": 12,
     "metadata": {},
     "output_type": "execute_result"
    },
    {
     "data": {
      "image/png": "[encoded data removed]",
      "text/plain": [
       "<Figure size 720x576 with 1 Axes>"
      ]
     },
     "metadata": {
      "needs_background": "light"
     },
     "output_type": "display_data"
    }
   ],
   "source": [
    "train_df['user'].value_counts()[100:].hist(bins=100, figsize=(10,8))"
   ]
  },
  {
   "attachments": {},
   "cell_type": "markdown",
   "metadata": {},
   "source": [
    "timestamp"
   ]
  },
  {
   "cell_type": "code",
   "execution_count": 13,
   "metadata": {},
   "outputs": [
    {
     "data": {
      "text/plain": [
       "0    2009-01-01 04:02:09\n",
       "1    2009-01-01 04:02:14\n",
       "2    2009-01-01 04:02:19\n",
       "3    2009-01-01 04:02:22\n",
       "4    2009-01-01 04:02:43\n",
       "Name: time, dtype: object"
      ]
     },
     "execution_count": 13,
     "metadata": {},
     "output_type": "execute_result"
    }
   ],
   "source": [
    "import time\n",
    "\n",
    "datetime_df = train_df['time'].apply(lambda x: time.strftime('%Y-%m-%d %H:%M:%S', time.localtime(x)))\n",
    "datetime_df.head()"
   ]
  },
  {
   "cell_type": "code",
   "execution_count": 14,
   "metadata": {},
   "outputs": [
    {
     "data": {
      "text/html": [
       "<div>\n",
       "<style scoped>\n",
       "    .dataframe tbody tr th:only-of-type {\n",
       "        vertical-align: middle;\n",
       "    }\n",
       "\n",
       "    .dataframe tbody tr th {\n",
       "        vertical-align: top;\n",
       "    }\n",
       "\n",
       "    .dataframe thead th {\n",
       "        text-align: right;\n",
       "    }\n",
       "</style>\n",
       "<table border=\"1\" class=\"dataframe\">\n",
       "  <thead>\n",
       "    <tr style=\"text-align: right;\">\n",
       "      <th></th>\n",
       "      <th>date</th>\n",
       "      <th>time</th>\n",
       "    </tr>\n",
       "  </thead>\n",
       "  <tbody>\n",
       "    <tr>\n",
       "      <th>0</th>\n",
       "      <td>2009-01-01</td>\n",
       "      <td>04:02:09</td>\n",
       "    </tr>\n",
       "    <tr>\n",
       "      <th>1</th>\n",
       "      <td>2009-01-01</td>\n",
       "      <td>04:02:14</td>\n",
       "    </tr>\n",
       "    <tr>\n",
       "      <th>2</th>\n",
       "      <td>2009-01-01</td>\n",
       "      <td>04:02:19</td>\n",
       "    </tr>\n",
       "    <tr>\n",
       "      <th>3</th>\n",
       "      <td>2009-01-01</td>\n",
       "      <td>04:02:22</td>\n",
       "    </tr>\n",
       "    <tr>\n",
       "      <th>4</th>\n",
       "      <td>2009-01-01</td>\n",
       "      <td>04:02:43</td>\n",
       "    </tr>\n",
       "    <tr>\n",
       "      <th>...</th>\n",
       "      <td>...</td>\n",
       "      <td>...</td>\n",
       "    </tr>\n",
       "    <tr>\n",
       "      <th>5154466</th>\n",
       "      <td>2009-12-07</td>\n",
       "      <td>18:10:49</td>\n",
       "    </tr>\n",
       "    <tr>\n",
       "      <th>5154467</th>\n",
       "      <td>2009-12-07</td>\n",
       "      <td>18:11:22</td>\n",
       "    </tr>\n",
       "    <tr>\n",
       "      <th>5154468</th>\n",
       "      <td>2009-12-07</td>\n",
       "      <td>18:15:20</td>\n",
       "    </tr>\n",
       "    <tr>\n",
       "      <th>5154469</th>\n",
       "      <td>2009-12-07</td>\n",
       "      <td>18:15:26</td>\n",
       "    </tr>\n",
       "    <tr>\n",
       "      <th>5154470</th>\n",
       "      <td>2009-12-07</td>\n",
       "      <td>18:16:47</td>\n",
       "    </tr>\n",
       "  </tbody>\n",
       "</table>\n",
       "<p>5154471 rows × 2 columns</p>\n",
       "</div>"
      ],
      "text/plain": [
       "               date      time\n",
       "0        2009-01-01  04:02:09\n",
       "1        2009-01-01  04:02:14\n",
       "2        2009-01-01  04:02:19\n",
       "3        2009-01-01  04:02:22\n",
       "4        2009-01-01  04:02:43\n",
       "...             ...       ...\n",
       "5154466  2009-12-07  18:10:49\n",
       "5154467  2009-12-07  18:11:22\n",
       "5154468  2009-12-07  18:15:20\n",
       "5154469  2009-12-07  18:15:26\n",
       "5154470  2009-12-07  18:16:47\n",
       "\n",
       "[5154471 rows x 2 columns]"
      ]
     },
     "execution_count": 14,
     "metadata": {},
     "output_type": "execute_result"
    }
   ],
   "source": [
    "datetime_df = datetime_df.str.split(\" \", expand=True)\n",
    "datetime_df.columns = ['date', 'time']\n",
    "datetime_df"
   ]
  },
  {
   "cell_type": "code",
   "execution_count": 15,
   "metadata": {},
   "outputs": [
    {
     "data": {
      "text/html": [
       "<div>\n",
       "<style scoped>\n",
       "    .dataframe tbody tr th:only-of-type {\n",
       "        vertical-align: middle;\n",
       "    }\n",
       "\n",
       "    .dataframe tbody tr th {\n",
       "        vertical-align: top;\n",
       "    }\n",
       "\n",
       "    .dataframe thead th {\n",
       "        text-align: right;\n",
       "    }\n",
       "</style>\n",
       "<table border=\"1\" class=\"dataframe\">\n",
       "  <thead>\n",
       "    <tr style=\"text-align: right;\">\n",
       "      <th></th>\n",
       "      <th>year</th>\n",
       "      <th>month</th>\n",
       "      <th>day</th>\n",
       "    </tr>\n",
       "  </thead>\n",
       "  <tbody>\n",
       "    <tr>\n",
       "      <th>0</th>\n",
       "      <td>2009</td>\n",
       "      <td>01</td>\n",
       "      <td>01</td>\n",
       "    </tr>\n",
       "    <tr>\n",
       "      <th>1</th>\n",
       "      <td>2009</td>\n",
       "      <td>01</td>\n",
       "      <td>01</td>\n",
       "    </tr>\n",
       "    <tr>\n",
       "      <th>2</th>\n",
       "      <td>2009</td>\n",
       "      <td>01</td>\n",
       "      <td>01</td>\n",
       "    </tr>\n",
       "    <tr>\n",
       "      <th>3</th>\n",
       "      <td>2009</td>\n",
       "      <td>01</td>\n",
       "      <td>01</td>\n",
       "    </tr>\n",
       "    <tr>\n",
       "      <th>4</th>\n",
       "      <td>2009</td>\n",
       "      <td>01</td>\n",
       "      <td>01</td>\n",
       "    </tr>\n",
       "    <tr>\n",
       "      <th>...</th>\n",
       "      <td>...</td>\n",
       "      <td>...</td>\n",
       "      <td>...</td>\n",
       "    </tr>\n",
       "    <tr>\n",
       "      <th>5154466</th>\n",
       "      <td>2009</td>\n",
       "      <td>12</td>\n",
       "      <td>07</td>\n",
       "    </tr>\n",
       "    <tr>\n",
       "      <th>5154467</th>\n",
       "      <td>2009</td>\n",
       "      <td>12</td>\n",
       "      <td>07</td>\n",
       "    </tr>\n",
       "    <tr>\n",
       "      <th>5154468</th>\n",
       "      <td>2009</td>\n",
       "      <td>12</td>\n",
       "      <td>07</td>\n",
       "    </tr>\n",
       "    <tr>\n",
       "      <th>5154469</th>\n",
       "      <td>2009</td>\n",
       "      <td>12</td>\n",
       "      <td>07</td>\n",
       "    </tr>\n",
       "    <tr>\n",
       "      <th>5154470</th>\n",
       "      <td>2009</td>\n",
       "      <td>12</td>\n",
       "      <td>07</td>\n",
       "    </tr>\n",
       "  </tbody>\n",
       "</table>\n",
       "<p>5154471 rows × 3 columns</p>\n",
       "</div>"
      ],
      "text/plain": [
       "         year month day\n",
       "0        2009    01  01\n",
       "1        2009    01  01\n",
       "2        2009    01  01\n",
       "3        2009    01  01\n",
       "4        2009    01  01\n",
       "...       ...   ...  ..\n",
       "5154466  2009    12  07\n",
       "5154467  2009    12  07\n",
       "5154468  2009    12  07\n",
       "5154469  2009    12  07\n",
       "5154470  2009    12  07\n",
       "\n",
       "[5154471 rows x 3 columns]"
      ]
     },
     "execution_count": 15,
     "metadata": {},
     "output_type": "execute_result"
    }
   ],
   "source": [
    "date_df = datetime_df['date'].str.split(\"-\", expand=True)\n",
    "date_df.columns = ['year', 'month', 'day'] \n",
    "date_df"
   ]
  },
  {
   "cell_type": "code",
   "execution_count": 16,
   "metadata": {},
   "outputs": [
    {
     "data": {
      "text/html": [
       "<div>\n",
       "<style scoped>\n",
       "    .dataframe tbody tr th:only-of-type {\n",
       "        vertical-align: middle;\n",
       "    }\n",
       "\n",
       "    .dataframe tbody tr th {\n",
       "        vertical-align: top;\n",
       "    }\n",
       "\n",
       "    .dataframe thead th {\n",
       "        text-align: right;\n",
       "    }\n",
       "</style>\n",
       "<table border=\"1\" class=\"dataframe\">\n",
       "  <thead>\n",
       "    <tr style=\"text-align: right;\">\n",
       "      <th></th>\n",
       "      <th>hour</th>\n",
       "      <th>minute</th>\n",
       "      <th>second</th>\n",
       "    </tr>\n",
       "  </thead>\n",
       "  <tbody>\n",
       "    <tr>\n",
       "      <th>0</th>\n",
       "      <td>04</td>\n",
       "      <td>02</td>\n",
       "      <td>09</td>\n",
       "    </tr>\n",
       "    <tr>\n",
       "      <th>1</th>\n",
       "      <td>04</td>\n",
       "      <td>02</td>\n",
       "      <td>14</td>\n",
       "    </tr>\n",
       "    <tr>\n",
       "      <th>2</th>\n",
       "      <td>04</td>\n",
       "      <td>02</td>\n",
       "      <td>19</td>\n",
       "    </tr>\n",
       "    <tr>\n",
       "      <th>3</th>\n",
       "      <td>04</td>\n",
       "      <td>02</td>\n",
       "      <td>22</td>\n",
       "    </tr>\n",
       "    <tr>\n",
       "      <th>4</th>\n",
       "      <td>04</td>\n",
       "      <td>02</td>\n",
       "      <td>43</td>\n",
       "    </tr>\n",
       "    <tr>\n",
       "      <th>...</th>\n",
       "      <td>...</td>\n",
       "      <td>...</td>\n",
       "      <td>...</td>\n",
       "    </tr>\n",
       "    <tr>\n",
       "      <th>5154466</th>\n",
       "      <td>18</td>\n",
       "      <td>10</td>\n",
       "      <td>49</td>\n",
       "    </tr>\n",
       "    <tr>\n",
       "      <th>5154467</th>\n",
       "      <td>18</td>\n",
       "      <td>11</td>\n",
       "      <td>22</td>\n",
       "    </tr>\n",
       "    <tr>\n",
       "      <th>5154468</th>\n",
       "      <td>18</td>\n",
       "      <td>15</td>\n",
       "      <td>20</td>\n",
       "    </tr>\n",
       "    <tr>\n",
       "      <th>5154469</th>\n",
       "      <td>18</td>\n",
       "      <td>15</td>\n",
       "      <td>26</td>\n",
       "    </tr>\n",
       "    <tr>\n",
       "      <th>5154470</th>\n",
       "      <td>18</td>\n",
       "      <td>16</td>\n",
       "      <td>47</td>\n",
       "    </tr>\n",
       "  </tbody>\n",
       "</table>\n",
       "<p>5154471 rows × 3 columns</p>\n",
       "</div>"
      ],
      "text/plain": [
       "        hour minute second\n",
       "0         04     02     09\n",
       "1         04     02     14\n",
       "2         04     02     19\n",
       "3         04     02     22\n",
       "4         04     02     43\n",
       "...      ...    ...    ...\n",
       "5154466   18     10     49\n",
       "5154467   18     11     22\n",
       "5154468   18     15     20\n",
       "5154469   18     15     26\n",
       "5154470   18     16     47\n",
       "\n",
       "[5154471 rows x 3 columns]"
      ]
     },
     "execution_count": 16,
     "metadata": {},
     "output_type": "execute_result"
    }
   ],
   "source": [
    "time_df = datetime_df['time'].str.split(\":\", expand=True)\n",
    "time_df.columns = ['hour', 'minute', 'second'] \n",
    "time_df"
   ]
  },
  {
   "cell_type": "code",
   "execution_count": 17,
   "metadata": {},
   "outputs": [],
   "source": [
    "datetime_df = pd.concat([datetime_df, date_df], axis=1)\n",
    "datetime_df = pd.concat([datetime_df, time_df], axis=1)"
   ]
  },
  {
   "cell_type": "code",
   "execution_count": 18,
   "metadata": {},
   "outputs": [
    {
     "data": {
      "text/plain": [
       "['date', 'time', 'year', 'month', 'day', 'hour', 'minute', 'second']"
      ]
     },
     "execution_count": 18,
     "metadata": {},
     "output_type": "execute_result"
    }
   ],
   "source": [
    "list(datetime_df)"
   ]
  },
  {
   "cell_type": "code",
   "execution_count": 19,
   "metadata": {},
   "outputs": [
    {
     "data": {
      "text/html": [
       "<div>\n",
       "<style scoped>\n",
       "    .dataframe tbody tr th:only-of-type {\n",
       "        vertical-align: middle;\n",
       "    }\n",
       "\n",
       "    .dataframe tbody tr th {\n",
       "        vertical-align: top;\n",
       "    }\n",
       "\n",
       "    .dataframe thead th {\n",
       "        text-align: right;\n",
       "    }\n",
       "</style>\n",
       "<table border=\"1\" class=\"dataframe\">\n",
       "  <thead>\n",
       "    <tr style=\"text-align: right;\">\n",
       "      <th></th>\n",
       "      <th>date</th>\n",
       "      <th>time</th>\n",
       "      <th>year</th>\n",
       "      <th>month</th>\n",
       "      <th>day</th>\n",
       "      <th>hour</th>\n",
       "      <th>minute</th>\n",
       "      <th>second</th>\n",
       "    </tr>\n",
       "  </thead>\n",
       "  <tbody>\n",
       "    <tr>\n",
       "      <th>0</th>\n",
       "      <td>2009-01-01</td>\n",
       "      <td>04:02:09</td>\n",
       "      <td>2009</td>\n",
       "      <td>01</td>\n",
       "      <td>01</td>\n",
       "      <td>04</td>\n",
       "      <td>02</td>\n",
       "      <td>09</td>\n",
       "    </tr>\n",
       "    <tr>\n",
       "      <th>1</th>\n",
       "      <td>2009-01-01</td>\n",
       "      <td>04:02:14</td>\n",
       "      <td>2009</td>\n",
       "      <td>01</td>\n",
       "      <td>01</td>\n",
       "      <td>04</td>\n",
       "      <td>02</td>\n",
       "      <td>14</td>\n",
       "    </tr>\n",
       "    <tr>\n",
       "      <th>2</th>\n",
       "      <td>2009-01-01</td>\n",
       "      <td>04:02:19</td>\n",
       "      <td>2009</td>\n",
       "      <td>01</td>\n",
       "      <td>01</td>\n",
       "      <td>04</td>\n",
       "      <td>02</td>\n",
       "      <td>19</td>\n",
       "    </tr>\n",
       "    <tr>\n",
       "      <th>3</th>\n",
       "      <td>2009-01-01</td>\n",
       "      <td>04:02:22</td>\n",
       "      <td>2009</td>\n",
       "      <td>01</td>\n",
       "      <td>01</td>\n",
       "      <td>04</td>\n",
       "      <td>02</td>\n",
       "      <td>22</td>\n",
       "    </tr>\n",
       "    <tr>\n",
       "      <th>4</th>\n",
       "      <td>2009-01-01</td>\n",
       "      <td>04:02:43</td>\n",
       "      <td>2009</td>\n",
       "      <td>01</td>\n",
       "      <td>01</td>\n",
       "      <td>04</td>\n",
       "      <td>02</td>\n",
       "      <td>43</td>\n",
       "    </tr>\n",
       "    <tr>\n",
       "      <th>5</th>\n",
       "      <td>2009-01-01</td>\n",
       "      <td>04:03:03</td>\n",
       "      <td>2009</td>\n",
       "      <td>01</td>\n",
       "      <td>01</td>\n",
       "      <td>04</td>\n",
       "      <td>03</td>\n",
       "      <td>03</td>\n",
       "    </tr>\n",
       "    <tr>\n",
       "      <th>6</th>\n",
       "      <td>2009-01-01</td>\n",
       "      <td>04:04:06</td>\n",
       "      <td>2009</td>\n",
       "      <td>01</td>\n",
       "      <td>01</td>\n",
       "      <td>04</td>\n",
       "      <td>04</td>\n",
       "      <td>06</td>\n",
       "    </tr>\n",
       "    <tr>\n",
       "      <th>7</th>\n",
       "      <td>2009-01-01</td>\n",
       "      <td>04:04:16</td>\n",
       "      <td>2009</td>\n",
       "      <td>01</td>\n",
       "      <td>01</td>\n",
       "      <td>04</td>\n",
       "      <td>04</td>\n",
       "      <td>16</td>\n",
       "    </tr>\n",
       "    <tr>\n",
       "      <th>8</th>\n",
       "      <td>2009-01-01</td>\n",
       "      <td>04:04:54</td>\n",
       "      <td>2009</td>\n",
       "      <td>01</td>\n",
       "      <td>01</td>\n",
       "      <td>04</td>\n",
       "      <td>04</td>\n",
       "      <td>54</td>\n",
       "    </tr>\n",
       "    <tr>\n",
       "      <th>9</th>\n",
       "      <td>2009-01-01</td>\n",
       "      <td>04:05:19</td>\n",
       "      <td>2009</td>\n",
       "      <td>01</td>\n",
       "      <td>01</td>\n",
       "      <td>04</td>\n",
       "      <td>05</td>\n",
       "      <td>19</td>\n",
       "    </tr>\n",
       "  </tbody>\n",
       "</table>\n",
       "</div>"
      ],
      "text/plain": [
       "         date      time  year month day hour minute second\n",
       "0  2009-01-01  04:02:09  2009    01  01   04     02     09\n",
       "1  2009-01-01  04:02:14  2009    01  01   04     02     14\n",
       "2  2009-01-01  04:02:19  2009    01  01   04     02     19\n",
       "3  2009-01-01  04:02:22  2009    01  01   04     02     22\n",
       "4  2009-01-01  04:02:43  2009    01  01   04     02     43\n",
       "5  2009-01-01  04:03:03  2009    01  01   04     03     03\n",
       "6  2009-01-01  04:04:06  2009    01  01   04     04     06\n",
       "7  2009-01-01  04:04:16  2009    01  01   04     04     16\n",
       "8  2009-01-01  04:04:54  2009    01  01   04     04     54\n",
       "9  2009-01-01  04:05:19  2009    01  01   04     05     19"
      ]
     },
     "execution_count": 19,
     "metadata": {},
     "output_type": "execute_result"
    }
   ],
   "source": [
    "datetime_df.head(10)"
   ]
  },
  {
   "cell_type": "code",
   "execution_count": 20,
   "metadata": {},
   "outputs": [
    {
     "data": {
      "text/plain": [
       "(5154471, 11)"
      ]
     },
     "execution_count": 20,
     "metadata": {},
     "output_type": "execute_result"
    }
   ],
   "source": [
    "train_df = pd.concat([train_df, datetime_df], axis=1)\n",
    "train_df.shape"
   ]
  },
  {
   "cell_type": "code",
   "execution_count": 66,
   "metadata": {},
   "outputs": [],
   "source": [
    "train_df.columns = ['user', 'item', 'timestamp', 'date', 'time', 'year', 'month', 'day', 'hour', 'minute', 'second']"
   ]
  },
  {
   "attachments": {},
   "cell_type": "markdown",
   "metadata": {},
   "source": [
    "### Side Information"
   ]
  },
  {
   "cell_type": "code",
   "execution_count": 21,
   "metadata": {},
   "outputs": [],
   "source": [
    "year_data = pd.read_csv(os.path.join(data_path, 'years.tsv'), sep='\\t')\n",
    "writer_data = pd.read_csv(os.path.join(data_path, 'writers.tsv'), sep='\\t')\n",
    "title_data = pd.read_csv(os.path.join(data_path, 'titles.tsv'), sep='\\t')\n",
    "genre_data = pd.read_csv(os.path.join(data_path, 'genres.tsv'), sep='\\t')\n",
    "director_data = pd.read_csv(os.path.join(data_path, 'directors.tsv'), sep='\\t')"
   ]
  },
  {
   "attachments": {},
   "cell_type": "markdown",
   "metadata": {},
   "source": [
    "item_df"
   ]
  },
  {
   "cell_type": "code",
   "execution_count": 22,
   "metadata": {},
   "outputs": [
    {
     "name": "stdout",
     "output_type": "stream",
     "text": [
      "['item', 'year', 'writer', 'title', 'genre', 'director']\n"
     ]
    },
    {
     "data": {
      "text/html": [
       "<div>\n",
       "<style scoped>\n",
       "    .dataframe tbody tr th:only-of-type {\n",
       "        vertical-align: middle;\n",
       "    }\n",
       "\n",
       "    .dataframe tbody tr th {\n",
       "        vertical-align: top;\n",
       "    }\n",
       "\n",
       "    .dataframe thead th {\n",
       "        text-align: right;\n",
       "    }\n",
       "</style>\n",
       "<table border=\"1\" class=\"dataframe\">\n",
       "  <thead>\n",
       "    <tr style=\"text-align: right;\">\n",
       "      <th></th>\n",
       "      <th>item</th>\n",
       "      <th>year</th>\n",
       "      <th>writer</th>\n",
       "      <th>title</th>\n",
       "      <th>genre</th>\n",
       "      <th>director</th>\n",
       "    </tr>\n",
       "  </thead>\n",
       "  <tbody>\n",
       "    <tr>\n",
       "      <th>0</th>\n",
       "      <td>1348</td>\n",
       "      <td>1922.0</td>\n",
       "      <td>nm0831290</td>\n",
       "      <td>Nosferatu (Nosferatu, eine Symphonie des Graue...</td>\n",
       "      <td>Horror</td>\n",
       "      <td>nm0003638</td>\n",
       "    </tr>\n",
       "    <tr>\n",
       "      <th>1</th>\n",
       "      <td>44587</td>\n",
       "      <td>1922.0</td>\n",
       "      <td>NaN</td>\n",
       "      <td>Nanook of the North (1922)</td>\n",
       "      <td>Documentary</td>\n",
       "      <td>NaN</td>\n",
       "    </tr>\n",
       "    <tr>\n",
       "      <th>2</th>\n",
       "      <td>44587</td>\n",
       "      <td>1922.0</td>\n",
       "      <td>NaN</td>\n",
       "      <td>Nanook of the North (1922)</td>\n",
       "      <td>Drama</td>\n",
       "      <td>NaN</td>\n",
       "    </tr>\n",
       "    <tr>\n",
       "      <th>3</th>\n",
       "      <td>4768</td>\n",
       "      <td>1922.0</td>\n",
       "      <td>nm0000485</td>\n",
       "      <td>Dr. Mabuse: The Gambler (Dr. Mabuse, der Spiel...</td>\n",
       "      <td>Crime</td>\n",
       "      <td>nm0000485</td>\n",
       "    </tr>\n",
       "    <tr>\n",
       "      <th>4</th>\n",
       "      <td>4768</td>\n",
       "      <td>1922.0</td>\n",
       "      <td>nm0000485</td>\n",
       "      <td>Dr. Mabuse: The Gambler (Dr. Mabuse, der Spiel...</td>\n",
       "      <td>Mystery</td>\n",
       "      <td>nm0000485</td>\n",
       "    </tr>\n",
       "  </tbody>\n",
       "</table>\n",
       "</div>"
      ],
      "text/plain": [
       "    item    year     writer  \\\n",
       "0   1348  1922.0  nm0831290   \n",
       "1  44587  1922.0        NaN   \n",
       "2  44587  1922.0        NaN   \n",
       "3   4768  1922.0  nm0000485   \n",
       "4   4768  1922.0  nm0000485   \n",
       "\n",
       "                                               title        genre   director  \n",
       "0  Nosferatu (Nosferatu, eine Symphonie des Graue...       Horror  nm0003638  \n",
       "1                         Nanook of the North (1922)  Documentary        NaN  \n",
       "2                         Nanook of the North (1922)        Drama        NaN  \n",
       "3  Dr. Mabuse: The Gambler (Dr. Mabuse, der Spiel...        Crime  nm0000485  \n",
       "4  Dr. Mabuse: The Gambler (Dr. Mabuse, der Spiel...      Mystery  nm0000485  "
      ]
     },
     "execution_count": 22,
     "metadata": {},
     "output_type": "execute_result"
    }
   ],
   "source": [
    "item_df = pd.merge(year_data, writer_data, on='item', how='outer')\n",
    "item_df = pd.merge(item_df, title_data, on='item', how='outer')\n",
    "item_df = pd.merge(item_df, genre_data, on='item', how='outer')\n",
    "item_df = pd.merge(item_df, director_data, on='item', how='outer')\n",
    "\n",
    "print(list(item_df))\n",
    "item_df.head()"
   ]
  },
  {
   "cell_type": "code",
   "execution_count": 23,
   "metadata": {},
   "outputs": [
    {
     "data": {
      "text/plain": [
       "(37674, 6)"
      ]
     },
     "execution_count": 23,
     "metadata": {},
     "output_type": "execute_result"
    }
   ],
   "source": [
    "item_df.shape"
   ]
  },
  {
   "attachments": {},
   "cell_type": "markdown",
   "metadata": {},
   "source": [
    "years"
   ]
  },
  {
   "cell_type": "code",
   "execution_count": 24,
   "metadata": {},
   "outputs": [
    {
     "name": "stdout",
     "output_type": "stream",
     "text": [
      "<class 'pandas.core.frame.DataFrame'>\n",
      "RangeIndex: 6799 entries, 0 to 6798\n",
      "Data columns (total 2 columns):\n",
      " #   Column  Non-Null Count  Dtype\n",
      "---  ------  --------------  -----\n",
      " 0   item    6799 non-null   int64\n",
      " 1   year    6799 non-null   int64\n",
      "dtypes: int64(2)\n",
      "memory usage: 106.4 KB\n"
     ]
    },
    {
     "data": {
      "text/html": [
       "<div>\n",
       "<style scoped>\n",
       "    .dataframe tbody tr th:only-of-type {\n",
       "        vertical-align: middle;\n",
       "    }\n",
       "\n",
       "    .dataframe tbody tr th {\n",
       "        vertical-align: top;\n",
       "    }\n",
       "\n",
       "    .dataframe thead th {\n",
       "        text-align: right;\n",
       "    }\n",
       "</style>\n",
       "<table border=\"1\" class=\"dataframe\">\n",
       "  <thead>\n",
       "    <tr style=\"text-align: right;\">\n",
       "      <th></th>\n",
       "      <th>item</th>\n",
       "      <th>year</th>\n",
       "    </tr>\n",
       "  </thead>\n",
       "  <tbody>\n",
       "    <tr>\n",
       "      <th>0</th>\n",
       "      <td>1348</td>\n",
       "      <td>1922</td>\n",
       "    </tr>\n",
       "    <tr>\n",
       "      <th>1</th>\n",
       "      <td>44587</td>\n",
       "      <td>1922</td>\n",
       "    </tr>\n",
       "    <tr>\n",
       "      <th>2</th>\n",
       "      <td>4768</td>\n",
       "      <td>1922</td>\n",
       "    </tr>\n",
       "    <tr>\n",
       "      <th>3</th>\n",
       "      <td>8235</td>\n",
       "      <td>1923</td>\n",
       "    </tr>\n",
       "    <tr>\n",
       "      <th>4</th>\n",
       "      <td>8609</td>\n",
       "      <td>1923</td>\n",
       "    </tr>\n",
       "  </tbody>\n",
       "</table>\n",
       "</div>"
      ],
      "text/plain": [
       "    item  year\n",
       "0   1348  1922\n",
       "1  44587  1922\n",
       "2   4768  1922\n",
       "3   8235  1923\n",
       "4   8609  1923"
      ]
     },
     "execution_count": 24,
     "metadata": {},
     "output_type": "execute_result"
    }
   ],
   "source": [
    "year_data.info()\n",
    "year_data.head(5)"
   ]
  },
  {
   "cell_type": "code",
   "execution_count": 25,
   "metadata": {},
   "outputs": [
    {
     "name": "stdout",
     "output_type": "stream",
     "text": [
      "Year data shape:  (6799, 2)\n",
      "Number of unique items in year_df:  6799\n",
      "Number of unique years:  93\n",
      "\n",
      "Statistics of year data: \n"
     ]
    },
    {
     "data": {
      "text/plain": [
       "count    6799.000000\n",
       "mean     1992.174732\n",
       "std        19.052568\n",
       "min      1922.000000\n",
       "25%      1985.000000\n",
       "50%      1999.000000\n",
       "75%      2006.000000\n",
       "max      2014.000000\n",
       "Name: year, dtype: float64"
      ]
     },
     "execution_count": 25,
     "metadata": {},
     "output_type": "execute_result"
    }
   ],
   "source": [
    "print (\"Year data shape: \", year_data.shape)\n",
    "print(\"Number of unique items in year_df: \", year_data['item'].nunique())\n",
    "print(\"Number of unique years: \", year_data['year'].nunique())\n",
    "print (\"\\nStatistics of year data: \")\n",
    "year_data['year'].describe()"
   ]
  },
  {
   "attachments": {},
   "cell_type": "markdown",
   "metadata": {},
   "source": [
    "writers"
   ]
  },
  {
   "cell_type": "code",
   "execution_count": 26,
   "metadata": {},
   "outputs": [
    {
     "name": "stdout",
     "output_type": "stream",
     "text": [
      "<class 'pandas.core.frame.DataFrame'>\n",
      "RangeIndex: 11306 entries, 0 to 11305\n",
      "Data columns (total 2 columns):\n",
      " #   Column  Non-Null Count  Dtype \n",
      "---  ------  --------------  ----- \n",
      " 0   item    11306 non-null  int64 \n",
      " 1   writer  11306 non-null  object\n",
      "dtypes: int64(1), object(1)\n",
      "memory usage: 176.8+ KB\n"
     ]
    },
    {
     "data": {
      "text/html": [
       "<div>\n",
       "<style scoped>\n",
       "    .dataframe tbody tr th:only-of-type {\n",
       "        vertical-align: middle;\n",
       "    }\n",
       "\n",
       "    .dataframe tbody tr th {\n",
       "        vertical-align: top;\n",
       "    }\n",
       "\n",
       "    .dataframe thead th {\n",
       "        text-align: right;\n",
       "    }\n",
       "</style>\n",
       "<table border=\"1\" class=\"dataframe\">\n",
       "  <thead>\n",
       "    <tr style=\"text-align: right;\">\n",
       "      <th></th>\n",
       "      <th>item</th>\n",
       "      <th>writer</th>\n",
       "    </tr>\n",
       "  </thead>\n",
       "  <tbody>\n",
       "    <tr>\n",
       "      <th>2470</th>\n",
       "      <td>103141</td>\n",
       "      <td>nm0047916</td>\n",
       "    </tr>\n",
       "    <tr>\n",
       "      <th>10082</th>\n",
       "      <td>2043</td>\n",
       "      <td>nm0914245</td>\n",
       "    </tr>\n",
       "    <tr>\n",
       "      <th>3337</th>\n",
       "      <td>8755</td>\n",
       "      <td>nm0147599</td>\n",
       "    </tr>\n",
       "    <tr>\n",
       "      <th>8617</th>\n",
       "      <td>3468</td>\n",
       "      <td>nm0744035</td>\n",
       "    </tr>\n",
       "    <tr>\n",
       "      <th>1984</th>\n",
       "      <td>106002</td>\n",
       "      <td>nm0004303</td>\n",
       "    </tr>\n",
       "  </tbody>\n",
       "</table>\n",
       "</div>"
      ],
      "text/plain": [
       "         item     writer\n",
       "2470   103141  nm0047916\n",
       "10082    2043  nm0914245\n",
       "3337     8755  nm0147599\n",
       "8617     3468  nm0744035\n",
       "1984   106002  nm0004303"
      ]
     },
     "execution_count": 26,
     "metadata": {},
     "output_type": "execute_result"
    }
   ],
   "source": [
    "writer_data.info()\n",
    "writer_data.sample(5)"
   ]
  },
  {
   "cell_type": "code",
   "execution_count": 27,
   "metadata": {},
   "outputs": [
    {
     "data": {
      "text/plain": [
       "item      5648\n",
       "writer    2989\n",
       "dtype: int64"
      ]
     },
     "execution_count": 27,
     "metadata": {},
     "output_type": "execute_result"
    }
   ],
   "source": [
    "writer_data.nunique()"
   ]
  },
  {
   "cell_type": "code",
   "execution_count": 28,
   "metadata": {},
   "outputs": [
    {
     "data": {
      "text/plain": [
       "1"
      ]
     },
     "execution_count": 28,
     "metadata": {},
     "output_type": "execute_result"
    }
   ],
   "source": [
    "writer_data['writer'].str[:2].nunique()"
   ]
  },
  {
   "cell_type": "code",
   "execution_count": 29,
   "metadata": {},
   "outputs": [
    {
     "data": {
      "text/plain": [
       "count    2989.000000\n",
       "mean        3.782536\n",
       "std         2.993783\n",
       "min         2.000000\n",
       "25%         2.000000\n",
       "50%         3.000000\n",
       "75%         4.000000\n",
       "max        47.000000\n",
       "Name: item, dtype: float64"
      ]
     },
     "execution_count": 29,
     "metadata": {},
     "output_type": "execute_result"
    }
   ],
   "source": [
    "# 작가 별 아이템 통계량\n",
    "writer_data.groupby('writer')['item'].count().describe()"
   ]
  },
  {
   "attachments": {},
   "cell_type": "markdown",
   "metadata": {},
   "source": [
    "titles"
   ]
  },
  {
   "attachments": {},
   "cell_type": "markdown",
   "metadata": {},
   "source": [
    "- 괄호제거, ', The' 제거 : 6806->6548"
   ]
  },
  {
   "cell_type": "code",
   "execution_count": 30,
   "metadata": {},
   "outputs": [
    {
     "name": "stdout",
     "output_type": "stream",
     "text": [
      "<class 'pandas.core.frame.DataFrame'>\n",
      "RangeIndex: 6807 entries, 0 to 6806\n",
      "Data columns (total 2 columns):\n",
      " #   Column  Non-Null Count  Dtype \n",
      "---  ------  --------------  ----- \n",
      " 0   item    6807 non-null   int64 \n",
      " 1   title   6807 non-null   object\n",
      "dtypes: int64(1), object(1)\n",
      "memory usage: 106.5+ KB\n"
     ]
    },
    {
     "data": {
      "text/html": [
       "<div>\n",
       "<style scoped>\n",
       "    .dataframe tbody tr th:only-of-type {\n",
       "        vertical-align: middle;\n",
       "    }\n",
       "\n",
       "    .dataframe tbody tr th {\n",
       "        vertical-align: top;\n",
       "    }\n",
       "\n",
       "    .dataframe thead th {\n",
       "        text-align: right;\n",
       "    }\n",
       "</style>\n",
       "<table border=\"1\" class=\"dataframe\">\n",
       "  <thead>\n",
       "    <tr style=\"text-align: right;\">\n",
       "      <th></th>\n",
       "      <th>item</th>\n",
       "      <th>title</th>\n",
       "    </tr>\n",
       "  </thead>\n",
       "  <tbody>\n",
       "    <tr>\n",
       "      <th>3189</th>\n",
       "      <td>4976</td>\n",
       "      <td>Iris (2001)</td>\n",
       "    </tr>\n",
       "    <tr>\n",
       "      <th>5003</th>\n",
       "      <td>694</td>\n",
       "      <td>Substitute, The (1996)</td>\n",
       "    </tr>\n",
       "    <tr>\n",
       "      <th>5136</th>\n",
       "      <td>2187</td>\n",
       "      <td>Stage Fright (1950)</td>\n",
       "    </tr>\n",
       "    <tr>\n",
       "      <th>673</th>\n",
       "      <td>1569</td>\n",
       "      <td>My Best Friend's Wedding (1997)</td>\n",
       "    </tr>\n",
       "    <tr>\n",
       "      <th>898</th>\n",
       "      <td>8781</td>\n",
       "      <td>Manchurian Candidate, The (2004)</td>\n",
       "    </tr>\n",
       "    <tr>\n",
       "      <th>3071</th>\n",
       "      <td>49932</td>\n",
       "      <td>Inland Empire (2006)</td>\n",
       "    </tr>\n",
       "    <tr>\n",
       "      <th>3595</th>\n",
       "      <td>3264</td>\n",
       "      <td>Buffy the Vampire Slayer (1992)</td>\n",
       "    </tr>\n",
       "    <tr>\n",
       "      <th>6385</th>\n",
       "      <td>450</td>\n",
       "      <td>With Honors (1994)</td>\n",
       "    </tr>\n",
       "    <tr>\n",
       "      <th>4373</th>\n",
       "      <td>40959</td>\n",
       "      <td>Ice Harvest, The (2005)</td>\n",
       "    </tr>\n",
       "    <tr>\n",
       "      <th>2740</th>\n",
       "      <td>3010</td>\n",
       "      <td>Rosetta (1999)</td>\n",
       "    </tr>\n",
       "  </tbody>\n",
       "</table>\n",
       "</div>"
      ],
      "text/plain": [
       "       item                             title\n",
       "3189   4976                       Iris (2001)\n",
       "5003    694            Substitute, The (1996)\n",
       "5136   2187               Stage Fright (1950)\n",
       "673    1569   My Best Friend's Wedding (1997)\n",
       "898    8781  Manchurian Candidate, The (2004)\n",
       "3071  49932              Inland Empire (2006)\n",
       "3595   3264   Buffy the Vampire Slayer (1992)\n",
       "6385    450                With Honors (1994)\n",
       "4373  40959           Ice Harvest, The (2005)\n",
       "2740   3010                    Rosetta (1999)"
      ]
     },
     "execution_count": 30,
     "metadata": {},
     "output_type": "execute_result"
    }
   ],
   "source": [
    "title_data.info()\n",
    "title_data.sample(10)"
   ]
  },
  {
   "cell_type": "code",
   "execution_count": 31,
   "metadata": {},
   "outputs": [
    {
     "data": {
      "text/plain": [
       "item     6807\n",
       "title    6806\n",
       "dtype: int64"
      ]
     },
     "execution_count": 31,
     "metadata": {},
     "output_type": "execute_result"
    }
   ],
   "source": [
    "title_data.nunique()"
   ]
  },
  {
   "cell_type": "code",
   "execution_count": 32,
   "metadata": {},
   "outputs": [],
   "source": [
    "# 괄호와 괄호 내 문자열 제거\n",
    "title_data['title'] = title_data['title'].str.replace(pat = r'\\(.*\\)|\\s-\\s.*', repl=r'', regex=True)\n",
    "title_data['title'] = title_data['title'].str.replace(pat = r'\\, The|\\s-\\s.*', repl=r'', regex=True)\n",
    "title_data['title'] = title_data['title'].str.strip()"
   ]
  },
  {
   "cell_type": "code",
   "execution_count": 33,
   "metadata": {},
   "outputs": [
    {
     "data": {
      "text/plain": [
       "6548"
      ]
     },
     "execution_count": 33,
     "metadata": {},
     "output_type": "execute_result"
    }
   ],
   "source": [
    "title_data['title'].nunique()"
   ]
  },
  {
   "attachments": {},
   "cell_type": "markdown",
   "metadata": {},
   "source": [
    "genres"
   ]
  },
  {
   "cell_type": "code",
   "execution_count": 34,
   "metadata": {},
   "outputs": [
    {
     "name": "stdout",
     "output_type": "stream",
     "text": [
      "<class 'pandas.core.frame.DataFrame'>\n",
      "RangeIndex: 15933 entries, 0 to 15932\n",
      "Data columns (total 2 columns):\n",
      " #   Column  Non-Null Count  Dtype \n",
      "---  ------  --------------  ----- \n",
      " 0   item    15933 non-null  int64 \n",
      " 1   genre   15933 non-null  object\n",
      "dtypes: int64(1), object(1)\n",
      "memory usage: 249.1+ KB\n"
     ]
    },
    {
     "data": {
      "text/html": [
       "<div>\n",
       "<style scoped>\n",
       "    .dataframe tbody tr th:only-of-type {\n",
       "        vertical-align: middle;\n",
       "    }\n",
       "\n",
       "    .dataframe tbody tr th {\n",
       "        vertical-align: top;\n",
       "    }\n",
       "\n",
       "    .dataframe thead th {\n",
       "        text-align: right;\n",
       "    }\n",
       "</style>\n",
       "<table border=\"1\" class=\"dataframe\">\n",
       "  <thead>\n",
       "    <tr style=\"text-align: right;\">\n",
       "      <th></th>\n",
       "      <th>item</th>\n",
       "      <th>genre</th>\n",
       "    </tr>\n",
       "  </thead>\n",
       "  <tbody>\n",
       "    <tr>\n",
       "      <th>0</th>\n",
       "      <td>318</td>\n",
       "      <td>Crime</td>\n",
       "    </tr>\n",
       "    <tr>\n",
       "      <th>1</th>\n",
       "      <td>318</td>\n",
       "      <td>Drama</td>\n",
       "    </tr>\n",
       "    <tr>\n",
       "      <th>2</th>\n",
       "      <td>2571</td>\n",
       "      <td>Action</td>\n",
       "    </tr>\n",
       "    <tr>\n",
       "      <th>3</th>\n",
       "      <td>2571</td>\n",
       "      <td>Sci-Fi</td>\n",
       "    </tr>\n",
       "    <tr>\n",
       "      <th>4</th>\n",
       "      <td>2571</td>\n",
       "      <td>Thriller</td>\n",
       "    </tr>\n",
       "  </tbody>\n",
       "</table>\n",
       "</div>"
      ],
      "text/plain": [
       "   item     genre\n",
       "0   318     Crime\n",
       "1   318     Drama\n",
       "2  2571    Action\n",
       "3  2571    Sci-Fi\n",
       "4  2571  Thriller"
      ]
     },
     "execution_count": 34,
     "metadata": {},
     "output_type": "execute_result"
    }
   ],
   "source": [
    "genre_data.info()\n",
    "genre_data.head(5)"
   ]
  },
  {
   "cell_type": "code",
   "execution_count": 35,
   "metadata": {},
   "outputs": [
    {
     "data": {
      "text/plain": [
       "item     6807\n",
       "genre      18\n",
       "dtype: int64"
      ]
     },
     "execution_count": 35,
     "metadata": {},
     "output_type": "execute_result"
    }
   ],
   "source": [
    "genre_data.nunique()"
   ]
  },
  {
   "cell_type": "code",
   "execution_count": 36,
   "metadata": {},
   "outputs": [
    {
     "data": {
      "text/html": [
       "<div>\n",
       "<style scoped>\n",
       "    .dataframe tbody tr th:only-of-type {\n",
       "        vertical-align: middle;\n",
       "    }\n",
       "\n",
       "    .dataframe tbody tr th {\n",
       "        vertical-align: top;\n",
       "    }\n",
       "\n",
       "    .dataframe thead th {\n",
       "        text-align: right;\n",
       "    }\n",
       "</style>\n",
       "<table border=\"1\" class=\"dataframe\">\n",
       "  <thead>\n",
       "    <tr style=\"text-align: right;\">\n",
       "      <th></th>\n",
       "      <th>genre</th>\n",
       "    </tr>\n",
       "    <tr>\n",
       "      <th>item</th>\n",
       "      <th></th>\n",
       "    </tr>\n",
       "  </thead>\n",
       "  <tbody>\n",
       "    <tr>\n",
       "      <th>1</th>\n",
       "      <td>[Adventure, Animation, Children, Comedy, Fantasy]</td>\n",
       "    </tr>\n",
       "    <tr>\n",
       "      <th>2</th>\n",
       "      <td>[Adventure, Children, Fantasy]</td>\n",
       "    </tr>\n",
       "    <tr>\n",
       "      <th>3</th>\n",
       "      <td>[Comedy, Romance]</td>\n",
       "    </tr>\n",
       "    <tr>\n",
       "      <th>4</th>\n",
       "      <td>[Comedy, Drama, Romance]</td>\n",
       "    </tr>\n",
       "    <tr>\n",
       "      <th>5</th>\n",
       "      <td>[Comedy]</td>\n",
       "    </tr>\n",
       "    <tr>\n",
       "      <th>...</th>\n",
       "      <td>...</td>\n",
       "    </tr>\n",
       "    <tr>\n",
       "      <th>118700</th>\n",
       "      <td>[Drama]</td>\n",
       "    </tr>\n",
       "    <tr>\n",
       "      <th>118900</th>\n",
       "      <td>[Drama]</td>\n",
       "    </tr>\n",
       "    <tr>\n",
       "      <th>118997</th>\n",
       "      <td>[Children, Comedy, Fantasy, Musical]</td>\n",
       "    </tr>\n",
       "    <tr>\n",
       "      <th>119141</th>\n",
       "      <td>[Action, Comedy]</td>\n",
       "    </tr>\n",
       "    <tr>\n",
       "      <th>119145</th>\n",
       "      <td>[Action, Adventure, Comedy, Crime]</td>\n",
       "    </tr>\n",
       "  </tbody>\n",
       "</table>\n",
       "<p>6807 rows × 1 columns</p>\n",
       "</div>"
      ],
      "text/plain": [
       "                                                    genre\n",
       "item                                                     \n",
       "1       [Adventure, Animation, Children, Comedy, Fantasy]\n",
       "2                          [Adventure, Children, Fantasy]\n",
       "3                                       [Comedy, Romance]\n",
       "4                                [Comedy, Drama, Romance]\n",
       "5                                                [Comedy]\n",
       "...                                                   ...\n",
       "118700                                            [Drama]\n",
       "118900                                            [Drama]\n",
       "118997               [Children, Comedy, Fantasy, Musical]\n",
       "119141                                   [Action, Comedy]\n",
       "119145                 [Action, Adventure, Comedy, Crime]\n",
       "\n",
       "[6807 rows x 1 columns]"
      ]
     },
     "execution_count": 36,
     "metadata": {},
     "output_type": "execute_result"
    }
   ],
   "source": [
    "grouped_genre = pd.DataFrame(genre_data.groupby('item')['genre'].apply(list))\n",
    "grouped_genre"
   ]
  },
  {
   "cell_type": "code",
   "execution_count": 37,
   "metadata": {},
   "outputs": [
    {
     "data": {
      "text/plain": [
       "count    6807.000000\n",
       "mean        2.340679\n",
       "std         1.114049\n",
       "min         1.000000\n",
       "25%         1.000000\n",
       "50%         2.000000\n",
       "75%         3.000000\n",
       "max        10.000000\n",
       "Name: count, dtype: float64"
      ]
     },
     "execution_count": 37,
     "metadata": {},
     "output_type": "execute_result"
    }
   ],
   "source": [
    "grouped_genre['count'] = grouped_genre.apply(lambda x: len(x['genre']), axis=1)\n",
    "grouped_genre['count'].describe()"
   ]
  },
  {
   "cell_type": "code",
   "execution_count": 38,
   "metadata": {},
   "outputs": [
    {
     "data": {
      "text/plain": [
       "array([[<AxesSubplot: title={'center': 'count'}>]], dtype=object)"
      ]
     },
     "execution_count": 38,
     "metadata": {},
     "output_type": "execute_result"
    },
    {
     "data": {
      "image/png": "[encoded data removed]",
      "text/plain": [
       "<Figure size 720x576 with 1 Axes>"
      ]
     },
     "metadata": {
      "needs_background": "light"
     },
     "output_type": "display_data"
    }
   ],
   "source": [
    "grouped_genre.hist(bins=5, figsize=(10,8))"
   ]
  },
  {
   "attachments": {},
   "cell_type": "markdown",
   "metadata": {},
   "source": [
    "directors"
   ]
  },
  {
   "cell_type": "code",
   "execution_count": 39,
   "metadata": {},
   "outputs": [
    {
     "name": "stdout",
     "output_type": "stream",
     "text": [
      "<class 'pandas.core.frame.DataFrame'>\n",
      "RangeIndex: 5905 entries, 0 to 5904\n",
      "Data columns (total 2 columns):\n",
      " #   Column    Non-Null Count  Dtype \n",
      "---  ------    --------------  ----- \n",
      " 0   item      5905 non-null   int64 \n",
      " 1   director  5905 non-null   object\n",
      "dtypes: int64(1), object(1)\n",
      "memory usage: 92.4+ KB\n"
     ]
    },
    {
     "data": {
      "text/html": [
       "<div>\n",
       "<style scoped>\n",
       "    .dataframe tbody tr th:only-of-type {\n",
       "        vertical-align: middle;\n",
       "    }\n",
       "\n",
       "    .dataframe tbody tr th {\n",
       "        vertical-align: top;\n",
       "    }\n",
       "\n",
       "    .dataframe thead th {\n",
       "        text-align: right;\n",
       "    }\n",
       "</style>\n",
       "<table border=\"1\" class=\"dataframe\">\n",
       "  <thead>\n",
       "    <tr style=\"text-align: right;\">\n",
       "      <th></th>\n",
       "      <th>item</th>\n",
       "      <th>director</th>\n",
       "    </tr>\n",
       "  </thead>\n",
       "  <tbody>\n",
       "    <tr>\n",
       "      <th>5813</th>\n",
       "      <td>70159</td>\n",
       "      <td>nm1429471</td>\n",
       "    </tr>\n",
       "    <tr>\n",
       "      <th>2338</th>\n",
       "      <td>71254</td>\n",
       "      <td>nm0004410</td>\n",
       "    </tr>\n",
       "    <tr>\n",
       "      <th>1777</th>\n",
       "      <td>6263</td>\n",
       "      <td>nm0001532</td>\n",
       "    </tr>\n",
       "    <tr>\n",
       "      <th>5140</th>\n",
       "      <td>52245</td>\n",
       "      <td>nm0817447</td>\n",
       "    </tr>\n",
       "    <tr>\n",
       "      <th>3280</th>\n",
       "      <td>7208</td>\n",
       "      <td>nm0281808</td>\n",
       "    </tr>\n",
       "  </tbody>\n",
       "</table>\n",
       "</div>"
      ],
      "text/plain": [
       "       item   director\n",
       "5813  70159  nm1429471\n",
       "2338  71254  nm0004410\n",
       "1777   6263  nm0001532\n",
       "5140  52245  nm0817447\n",
       "3280   7208  nm0281808"
      ]
     },
     "execution_count": 39,
     "metadata": {},
     "output_type": "execute_result"
    }
   ],
   "source": [
    "director_data.info()\n",
    "director_data.sample(5)"
   ]
  },
  {
   "cell_type": "code",
   "execution_count": 40,
   "metadata": {},
   "outputs": [
    {
     "data": {
      "text/plain": [
       "item        5503\n",
       "director    1340\n",
       "dtype: int64"
      ]
     },
     "execution_count": 40,
     "metadata": {},
     "output_type": "execute_result"
    }
   ],
   "source": [
    "director_data.nunique()"
   ]
  },
  {
   "cell_type": "code",
   "execution_count": 41,
   "metadata": {},
   "outputs": [
    {
     "data": {
      "text/plain": [
       "1"
      ]
     },
     "execution_count": 41,
     "metadata": {},
     "output_type": "execute_result"
    }
   ],
   "source": [
    "director_data['director'].str[:2].nunique()"
   ]
  },
  {
   "cell_type": "code",
   "execution_count": 42,
   "metadata": {},
   "outputs": [
    {
     "data": {
      "text/plain": [
       "count    1340.000000\n",
       "mean        4.406716\n",
       "std         3.633030\n",
       "min         2.000000\n",
       "25%         2.000000\n",
       "50%         3.000000\n",
       "75%         5.000000\n",
       "max        44.000000\n",
       "Name: item, dtype: float64"
      ]
     },
     "execution_count": 42,
     "metadata": {},
     "output_type": "execute_result"
    }
   ],
   "source": [
    "# 감독 별 아이템 통계량\n",
    "director_data.groupby('director')['item'].count().describe()"
   ]
  },
  {
   "attachments": {},
   "cell_type": "markdown",
   "metadata": {},
   "source": [
    "writer vs director"
   ]
  },
  {
   "cell_type": "code",
   "execution_count": 43,
   "metadata": {},
   "outputs": [
    {
     "data": {
      "text/plain": [
       "2989"
      ]
     },
     "execution_count": 43,
     "metadata": {},
     "output_type": "execute_result"
    }
   ],
   "source": [
    "writer_data['writer'].nunique()"
   ]
  },
  {
   "cell_type": "code",
   "execution_count": 44,
   "metadata": {},
   "outputs": [
    {
     "data": {
      "text/plain": [
       "1340"
      ]
     },
     "execution_count": 44,
     "metadata": {},
     "output_type": "execute_result"
    }
   ],
   "source": [
    "director_data['director'].nunique()"
   ]
  },
  {
   "cell_type": "code",
   "execution_count": 45,
   "metadata": {},
   "outputs": [
    {
     "data": {
      "text/plain": [
       "676"
      ]
     },
     "execution_count": 45,
     "metadata": {},
     "output_type": "execute_result"
    }
   ],
   "source": [
    "# 교집합 개수\n",
    "len(set(writer_data['writer']).intersection(set(director_data['director'])))"
   ]
  },
  {
   "attachments": {},
   "cell_type": "markdown",
   "metadata": {},
   "source": [
    "### 데이터 시각화"
   ]
  },
  {
   "cell_type": "code",
   "execution_count": 46,
   "metadata": {},
   "outputs": [],
   "source": [
    "import matplotlib.pyplot as plt"
   ]
  },
  {
   "attachments": {},
   "cell_type": "markdown",
   "metadata": {},
   "source": [
    "데이터의 출현 빈도 순 : *active_user_ids*와 *popular_movie_ids*"
   ]
  },
  {
   "cell_type": "code",
   "execution_count": 47,
   "metadata": {},
   "outputs": [
    {
     "name": "stdout",
     "output_type": "stream",
     "text": [
      "active user ids:  Int64Index([8405, 54465, 24219, 32514, 91349, 131904, 34576, 99754, 31122,\n",
      "            118754],\n",
      "           dtype='int64', name='user')\n",
      "\n",
      "popular movie ids:  Int64Index([2571, 2959, 296, 318, 356, 4993, 7153, 5952, 593, 2858], dtype='int64', name='item')\n"
     ]
    }
   ],
   "source": [
    "active_user_ids = train_df.value_counts('user').index[:10]\n",
    "popular_movie_ids = train_df.value_counts('item').index[:10]\n",
    "\n",
    "print (\"active user ids: \", active_user_ids)\n",
    "print (\"\\npopular movie ids: \", popular_movie_ids)"
   ]
  },
  {
   "attachments": {},
   "cell_type": "markdown",
   "metadata": {},
   "source": [
    "user-item 빈도수가 높은 데이터 샘플을 미리 저장"
   ]
  },
  {
   "cell_type": "code",
   "execution_count": 48,
   "metadata": {},
   "outputs": [
    {
     "name": "stdout",
     "output_type": "stream",
     "text": [
      "Number of all unique director ids:  1340\n",
      "\n",
      "top 10 director ids: \n",
      " Index(['nm0000229', 'nm0000233', 'nm0634240', 'nm0000709', 'nm0001392',\n",
      "       'nm0000217', 'nm0001054', 'nm0000116', 'nm0000399', 'nm0000631'],\n",
      "      dtype='object', name='director')\n",
      "\n",
      "sample of top 10 user-director data: \n",
      "            user   item        time        date      time  year month day hour  \\\n",
      "1444264   37619    527  1315854840  2011-09-12  19:14:00  2011    09  12   19   \n",
      "1498243    9831  48516  1375418682  2013-08-02  04:44:42  2013    08  02   04   \n",
      "2197546   11849   1089  1205411444  2008-03-13  12:30:44  2008    03  13   12   \n",
      "941910    35906    296  1237677318  2009-03-21  23:15:18  2009    03  21   23   \n",
      "921321   113673   2959  1311278792  2011-07-21  20:06:32  2011    07  21   20   \n",
      "\n",
      "        minute second   director  \n",
      "1444264     14     00  nm0000229  \n",
      "1498243     44     42  nm0000217  \n",
      "2197546     30     44  nm0000233  \n",
      "941910      15     18  nm0000233  \n",
      "921321      06     32  nm0000399  \n",
      "\n",
      "shape of the data:  (672019, 12)\n"
     ]
    }
   ],
   "source": [
    "director_df = pd.merge(train_df, director_data, on=['item'])\n",
    "director_id = director_df.value_counts('director').index[:10]\n",
    "\n",
    "side_df = []\n",
    "for director in director_id:\n",
    "    side_df.append(director_df.loc[director_df['director'] == director])\n",
    "\n",
    "director_top = pd.concat(side_df)\n",
    "\n",
    "print (\"Number of all unique director ids: \", director_df['director'].nunique())\n",
    "print (\"\\ntop 10 director ids: \\n\", director_id)\n",
    "print (\"\\nsample of top 10 user-director data: \\n\", director_top.sample(5))\n",
    "print (\"\\nshape of the data: \", director_top.shape)"
   ]
  },
  {
   "cell_type": "code",
   "execution_count": 49,
   "metadata": {},
   "outputs": [
    {
     "name": "stdout",
     "output_type": "stream",
     "text": [
      "Number of all unique writer ids:  2989\n",
      "\n",
      "top 10 writer ids: \n",
      " Index(['nm0000184', 'nm0000233', 'nm0634240', 'nm0001392', 'nm0909638',\n",
      "       'nm0004056', 'nm0744429', 'nm0101991', 'nm0254645', 'nm0000175'],\n",
      "      dtype='object', name='writer')\n",
      "\n",
      "sample of top 10 user-writer data: \n",
      "             user  item        time        date      time  year month day hour  \\\n",
      "10310681   74735  1345  1424667735  2015-02-23  05:02:15  2015    02  23   05   \n",
      "3712949   103642  7153  1282562517  2010-08-23  11:21:57  2010    08  23   11   \n",
      "1757558    77525  6377  1167383867  2006-12-29  09:17:47  2006    12  29   09   \n",
      "3692070    60159  7153  1122963229  2005-08-02  06:13:49  2005    08  02   06   \n",
      "2720709   127900  1291  1201810555  2008-01-31  20:15:55  2008    01  31   20   \n",
      "\n",
      "         minute second     writer  \n",
      "10310681     02     15  nm0000175  \n",
      "3712949      21     57  nm0909638  \n",
      "1757558      17     47  nm0004056  \n",
      "3692070      13     49  nm0001392  \n",
      "2720709      15     55  nm0000184  \n",
      "\n",
      "shape of the data:  (651286, 12)\n"
     ]
    }
   ],
   "source": [
    "writer_df = pd.merge(train_df, writer_data, on=['item'])\n",
    "writer_id = writer_df.value_counts('writer').index[:10]\n",
    "\n",
    "side_df = []\n",
    "for writer in writer_id:\n",
    "    side_df.append(writer_df.loc[writer_df['writer'] == writer])\n",
    "\n",
    "writer_top = pd.concat(side_df)\n",
    "\n",
    "print (\"Number of all unique writer ids: \", writer_df['writer'].nunique())\n",
    "print (\"\\ntop 10 writer ids: \\n\", writer_id)\n",
    "print (\"\\nsample of top 10 user-writer data: \\n\", writer_top.sample(5))\n",
    "print (\"\\nshape of the data: \", writer_top.shape)"
   ]
  },
  {
   "cell_type": "code",
   "execution_count": 50,
   "metadata": {},
   "outputs": [
    {
     "name": "stdout",
     "output_type": "stream",
     "text": [
      "Number of all unique movie titles:  6548\n",
      "\n",
      "top 10 movie titles: \n",
      " Index(['Matrix', 'Fight Club', 'Pulp Fiction', 'Shawshank Redemption',\n",
      "       'Forrest Gump', 'Lord of the Rings: The Fellowship of the Ring',\n",
      "       'Lord of the Rings: The Return of the King',\n",
      "       'Lord of the Rings: The Two Towers', 'Silence of the Lambs',\n",
      "       'Gladiator'],\n",
      "      dtype='object', name='title')\n",
      "\n",
      "sample of top 10 user-title data: \n",
      "           user  item        time        date      time  year month day hour  \\\n",
      "1076407  51986  5952  1338827609  2012-06-04  16:33:29  2012    06  04   16   \n",
      "807382   47852  2959  1404702718  2014-07-07  03:11:58  2014    07  07   03   \n",
      "837730   43767   296  1113366961  2005-04-13  04:36:01  2005    04  13   04   \n",
      "230016   52843  2571  1121071472  2005-07-11  08:44:32  2005    07  11   08   \n",
      "852108   15120   356  1276060711  2010-06-09  05:18:31  2010    06  09   05   \n",
      "\n",
      "        minute second                              title  \n",
      "1076407     33     29  Lord of the Rings: The Two Towers  \n",
      "807382      11     58                         Fight Club  \n",
      "837730      36     01                       Pulp Fiction  \n",
      "230016      44     32                             Matrix  \n",
      "852108      18     31                       Forrest Gump  \n",
      "\n",
      "shape of the data:  (173520, 12)\n"
     ]
    }
   ],
   "source": [
    "title_df = pd.merge(train_df, title_data, on=['item'])\n",
    "title_id = title_df.value_counts('title').index[:10]\n",
    "\n",
    "\n",
    "side_df = []\n",
    "for title in title_id:\n",
    "    side_df.append(title_df.loc[title_df['title'] == title])\n",
    "\n",
    "title_top = pd.concat(side_df)\n",
    "\n",
    "print (\"Number of all unique movie titles: \", title_df['title'].nunique())\n",
    "print (\"\\ntop 10 movie titles: \\n\", title_id)\n",
    "print (\"\\nsample of top 10 user-title data: \\n\", title_top.sample(5))\n",
    "print (\"\\nshape of the data: \", title_top.shape)"
   ]
  },
  {
   "cell_type": "code",
   "execution_count": 52,
   "metadata": {},
   "outputs": [
    {
     "data": {
      "text/html": [
       "<div>\n",
       "<style scoped>\n",
       "    .dataframe tbody tr th:only-of-type {\n",
       "        vertical-align: middle;\n",
       "    }\n",
       "\n",
       "    .dataframe tbody tr th {\n",
       "        vertical-align: top;\n",
       "    }\n",
       "\n",
       "    .dataframe thead th {\n",
       "        text-align: right;\n",
       "    }\n",
       "</style>\n",
       "<table border=\"1\" class=\"dataframe\">\n",
       "  <thead>\n",
       "    <tr style=\"text-align: right;\">\n",
       "      <th></th>\n",
       "      <th>item</th>\n",
       "      <th>year</th>\n",
       "    </tr>\n",
       "  </thead>\n",
       "  <tbody>\n",
       "    <tr>\n",
       "      <th>0</th>\n",
       "      <td>1348</td>\n",
       "      <td>1922</td>\n",
       "    </tr>\n",
       "    <tr>\n",
       "      <th>1</th>\n",
       "      <td>44587</td>\n",
       "      <td>1922</td>\n",
       "    </tr>\n",
       "    <tr>\n",
       "      <th>2</th>\n",
       "      <td>4768</td>\n",
       "      <td>1922</td>\n",
       "    </tr>\n",
       "    <tr>\n",
       "      <th>3</th>\n",
       "      <td>8235</td>\n",
       "      <td>1923</td>\n",
       "    </tr>\n",
       "    <tr>\n",
       "      <th>4</th>\n",
       "      <td>8609</td>\n",
       "      <td>1923</td>\n",
       "    </tr>\n",
       "    <tr>\n",
       "      <th>...</th>\n",
       "      <td>...</td>\n",
       "      <td>...</td>\n",
       "    </tr>\n",
       "    <tr>\n",
       "      <th>6794</th>\n",
       "      <td>114795</td>\n",
       "      <td>2014</td>\n",
       "    </tr>\n",
       "    <tr>\n",
       "      <th>6795</th>\n",
       "      <td>110771</td>\n",
       "      <td>2014</td>\n",
       "    </tr>\n",
       "    <tr>\n",
       "      <th>6796</th>\n",
       "      <td>112804</td>\n",
       "      <td>2014</td>\n",
       "    </tr>\n",
       "    <tr>\n",
       "      <th>6797</th>\n",
       "      <td>113378</td>\n",
       "      <td>2014</td>\n",
       "    </tr>\n",
       "    <tr>\n",
       "      <th>6798</th>\n",
       "      <td>109850</td>\n",
       "      <td>2014</td>\n",
       "    </tr>\n",
       "  </tbody>\n",
       "</table>\n",
       "<p>6799 rows × 2 columns</p>\n",
       "</div>"
      ],
      "text/plain": [
       "        item  year\n",
       "0       1348  1922\n",
       "1      44587  1922\n",
       "2       4768  1922\n",
       "3       8235  1923\n",
       "4       8609  1923\n",
       "...      ...   ...\n",
       "6794  114795  2014\n",
       "6795  110771  2014\n",
       "6796  112804  2014\n",
       "6797  113378  2014\n",
       "6798  109850  2014\n",
       "\n",
       "[6799 rows x 2 columns]"
      ]
     },
     "execution_count": 52,
     "metadata": {},
     "output_type": "execute_result"
    }
   ],
   "source": [
    "year_data"
   ]
  },
  {
   "cell_type": "code",
   "execution_count": 54,
   "metadata": {},
   "outputs": [
    {
     "data": {
      "text/html": [
       "<div>\n",
       "<style scoped>\n",
       "    .dataframe tbody tr th:only-of-type {\n",
       "        vertical-align: middle;\n",
       "    }\n",
       "\n",
       "    .dataframe tbody tr th {\n",
       "        vertical-align: top;\n",
       "    }\n",
       "\n",
       "    .dataframe thead th {\n",
       "        text-align: right;\n",
       "    }\n",
       "</style>\n",
       "<table border=\"1\" class=\"dataframe\">\n",
       "  <thead>\n",
       "    <tr style=\"text-align: right;\">\n",
       "      <th></th>\n",
       "      <th>item</th>\n",
       "      <th>item_year</th>\n",
       "    </tr>\n",
       "  </thead>\n",
       "  <tbody>\n",
       "    <tr>\n",
       "      <th>0</th>\n",
       "      <td>1348</td>\n",
       "      <td>1922</td>\n",
       "    </tr>\n",
       "    <tr>\n",
       "      <th>1</th>\n",
       "      <td>44587</td>\n",
       "      <td>1922</td>\n",
       "    </tr>\n",
       "    <tr>\n",
       "      <th>2</th>\n",
       "      <td>4768</td>\n",
       "      <td>1922</td>\n",
       "    </tr>\n",
       "    <tr>\n",
       "      <th>3</th>\n",
       "      <td>8235</td>\n",
       "      <td>1923</td>\n",
       "    </tr>\n",
       "    <tr>\n",
       "      <th>4</th>\n",
       "      <td>8609</td>\n",
       "      <td>1923</td>\n",
       "    </tr>\n",
       "    <tr>\n",
       "      <th>...</th>\n",
       "      <td>...</td>\n",
       "      <td>...</td>\n",
       "    </tr>\n",
       "    <tr>\n",
       "      <th>6794</th>\n",
       "      <td>114795</td>\n",
       "      <td>2014</td>\n",
       "    </tr>\n",
       "    <tr>\n",
       "      <th>6795</th>\n",
       "      <td>110771</td>\n",
       "      <td>2014</td>\n",
       "    </tr>\n",
       "    <tr>\n",
       "      <th>6796</th>\n",
       "      <td>112804</td>\n",
       "      <td>2014</td>\n",
       "    </tr>\n",
       "    <tr>\n",
       "      <th>6797</th>\n",
       "      <td>113378</td>\n",
       "      <td>2014</td>\n",
       "    </tr>\n",
       "    <tr>\n",
       "      <th>6798</th>\n",
       "      <td>109850</td>\n",
       "      <td>2014</td>\n",
       "    </tr>\n",
       "  </tbody>\n",
       "</table>\n",
       "<p>6799 rows × 2 columns</p>\n",
       "</div>"
      ],
      "text/plain": [
       "        item  item_year\n",
       "0       1348       1922\n",
       "1      44587       1922\n",
       "2       4768       1922\n",
       "3       8235       1923\n",
       "4       8609       1923\n",
       "...      ...        ...\n",
       "6794  114795       2014\n",
       "6795  110771       2014\n",
       "6796  112804       2014\n",
       "6797  113378       2014\n",
       "6798  109850       2014\n",
       "\n",
       "[6799 rows x 2 columns]"
      ]
     },
     "execution_count": 54,
     "metadata": {},
     "output_type": "execute_result"
    }
   ],
   "source": [
    "year_data.columns = ['item', 'item_year']\n",
    "year_data"
   ]
  },
  {
   "cell_type": "code",
   "execution_count": 55,
   "metadata": {},
   "outputs": [
    {
     "name": "stdout",
     "output_type": "stream",
     "text": [
      "All unique years: \n",
      " ['2005' '2006' '2007' '2008' '2009' '2010' '2011' '2012' '2013' '2014'\n",
      " '2015']\n",
      "\n",
      "Number of all unique years:  11\n",
      "\n",
      "top 10 years: \n",
      " Index(['2008', '2006', '2007', '2005', '2009', '2010', '2011', '2012', '2013',\n",
      "       '2014'],\n",
      "      dtype='object', name='year')\n",
      "\n",
      "sample of top 10 user-year data: \n",
      "           user  item        time        date      time  year month day hour  \\\n",
      "1018951  67351  1291  1378562303  2013-09-07  13:58:23  2013    09  07   13   \n",
      "5138564  48174  1760  1177326989  2007-04-23  11:16:29  2007    04  23   11   \n",
      "921702   66049   377  1343837672  2012-08-01  16:14:32  2012    08  01   16   \n",
      "1935502  41282  1089  1236551768  2009-03-08  22:36:08  2009    03  08   22   \n",
      "4898986  60645  5054  1140208599  2006-02-17  20:36:39  2006    02  17   20   \n",
      "\n",
      "        minute second  item_year  \n",
      "1018951     58     23       1989  \n",
      "5138564     16     29       1997  \n",
      "921702      14     32       1994  \n",
      "1935502     36     08       1992  \n",
      "4898986     36     39       1983  \n",
      "\n",
      "shape of the data:  (5010846, 12)\n"
     ]
    }
   ],
   "source": [
    "year_df = pd.merge(train_df, year_data, on=['item'])\n",
    "year_id = year_df.value_counts('year').index[:10]\n",
    "\n",
    "side_df = []\n",
    "for year in year_id:\n",
    "    side_df.append(year_df.loc[year_df['year'] == year])\n",
    "\n",
    "year_top = pd.concat(side_df)\n",
    "\n",
    "print (\"All unique years: \\n\", np.sort(year_df['year'].unique())) \n",
    "print (\"\\nNumber of all unique years: \", year_df['year'].nunique())\n",
    "print (\"\\ntop 10 years: \\n\", year_id)\n",
    "print (\"\\nsample of top 10 user-year data: \\n\", year_top.sample(5))\n",
    "print (\"\\nshape of the data: \", year_top.shape)"
   ]
  },
  {
   "cell_type": "code",
   "execution_count": 56,
   "metadata": {},
   "outputs": [
    {
     "name": "stdout",
     "output_type": "stream",
     "text": [
      "All unique genres: \n",
      " ['Action' 'Adventure' 'Animation' 'Children' 'Comedy' 'Crime'\n",
      " 'Documentary' 'Drama' 'Fantasy' 'Film-Noir' 'Horror' 'Musical' 'Mystery'\n",
      " 'Romance' 'Sci-Fi' 'Thriller' 'War' 'Western']\n",
      "\n",
      "Number of all unique genres:  18\n",
      "\n",
      "sample of user-genre data: \n",
      "            user  item        time        date      time  year month day hour  \\\n",
      "7868619   35436  1302  1134234546  2005-12-10  17:09:06  2005    12  10   17   \n",
      "10331312  76057  1672  1262097788  2009-12-29  14:43:08  2009    12  29   14   \n",
      "2021155   65473  6874  1134407314  2005-12-12  17:08:34  2005    12  12   17   \n",
      "6566456   93368  5902  1210793005  2008-05-14  19:23:25  2008    05  14   19   \n",
      "955963    92980  3745  1138479172  2006-01-28  20:12:52  2006    01  28   20   \n",
      "\n",
      "         minute second    genre  \n",
      "7868619      09     06    Drama  \n",
      "10331312     43     08    Drama  \n",
      "2021155      08     34    Crime  \n",
      "6566456      23     25  Romance  \n",
      "955963       12     52   Action  \n",
      "\n",
      "shape of the data:  (14126324, 12)\n"
     ]
    }
   ],
   "source": [
    "genre_df = pd.merge(train_df, genre_data, on=['item'])\n",
    "\n",
    "genre_top = genre_df\n",
    "\n",
    "print (\"All unique genres: \\n\", np.sort(genre_df['genre'].unique())) \n",
    "print (\"\\nNumber of all unique genres: \", genre_df['genre'].nunique())\n",
    "print (\"\\nsample of user-genre data: \\n\", genre_top.sample(5))\n",
    "print (\"\\nshape of the data: \", genre_top.shape)"
   ]
  },
  {
   "cell_type": "code",
   "execution_count": 57,
   "metadata": {},
   "outputs": [
    {
     "data": {
      "text/plain": [
       "<function matplotlib.pyplot.show(close=None, block=None)>"
      ]
     },
     "execution_count": 57,
     "metadata": {},
     "output_type": "execute_result"
    },
    {
     "data": {
      "image/png": "[encoded data removed]",
      "text/plain": [
       "<Figure size 576x504 with 1 Axes>"
      ]
     },
     "metadata": {
      "needs_background": "light"
     },
     "output_type": "display_data"
    }
   ],
   "source": [
    "# Drama > ... > Film-Noir\n",
    "genre_top['genre'].value_counts().plot(kind = 'bar', figsize = (8,7))\n",
    "plt.xlabel('genre')\n",
    "plt.ylabel('# of users')\n",
    "plt.title('Visualization of genre distribution over all training data')\n",
    "plt.show"
   ]
  },
  {
   "cell_type": "code",
   "execution_count": 58,
   "metadata": {},
   "outputs": [
    {
     "data": {
      "image/png": "[encoded data removed]",
      "text/plain": [
       "<Figure size 432x288 with 2 Axes>"
      ]
     },
     "metadata": {
      "needs_background": "light"
     },
     "output_type": "display_data"
    }
   ],
   "source": [
    "# 전체 훈련데이터 순위 != 영화데이터 순위\n",
    "plt.subplot(2,1,1)\n",
    "genre_data['genre'].value_counts().plot(kind = 'bar')\n",
    "plt.xlabel('genre')\n",
    "plt.ylabel('# of users')\n",
    "plt.title('Visualization of genre distribution over all movies')\n",
    "\n",
    "plt.subplot(2,1,2)\n",
    "genre_top['genre'].value_counts().plot(kind = 'bar')\n",
    "plt.xlabel('genre')\n",
    "plt.ylabel('# of users')\n",
    "plt.title('Visualization of genre distribution over all training data')\n",
    "\n",
    "plt.subplots_adjust(hspace=2.0, top=1.0)"
   ]
  },
  {
   "cell_type": "code",
   "execution_count": 59,
   "metadata": {},
   "outputs": [
    {
     "data": {
      "text/plain": [
       "<AxesSubplot: >"
      ]
     },
     "execution_count": 59,
     "metadata": {},
     "output_type": "execute_result"
    },
    {
     "data": {
      "image/png": "[encoded data removed]",
      "text/plain": [
       "<Figure size 576x504 with 1 Axes>"
      ]
     },
     "metadata": {
      "needs_background": "light"
     },
     "output_type": "display_data"
    }
   ],
   "source": [
    "# 특정 유저의 영화 장르 순위\n",
    "user_id = active_user_ids[0] # specific user id\n",
    "genre_user = genre_top[genre_top['user'] == user_id]\n",
    "\n",
    "genre_user['genre'].value_counts().plot(kind = 'bar', figsize = (8,7))"
   ]
  },
  {
   "cell_type": "code",
   "execution_count": 65,
   "metadata": {},
   "outputs": [
    {
     "name": "stderr",
     "output_type": "stream",
     "text": [
      "/tmp/ipykernel_85273/2588566963.py:7: SettingWithCopyWarning: \n",
      "A value is trying to be set on a copy of a slice from a DataFrame.\n",
      "Try using .loc[row_indexer,col_indexer] = value instead\n",
      "\n",
      "See the caveats in the documentation: https://pandas.pydata.org/pandas-docs/stable/user_guide/indexing.html#returning-a-view-versus-a-copy\n",
      "  converted_df['timestamp'] = old_df['timestamp'].replace([old_time], new_time) # replace the time column\n"
     ]
    },
    {
     "data": {
      "text/plain": [
       "Text(0.5, 1.0, 'Statistics of user activity')"
      ]
     },
     "execution_count": 65,
     "metadata": {},
     "output_type": "execute_result"
    },
    {
     "data": {
      "image/png": "[encoded data removed]",
      "text/plain": [
       "<Figure size 576x504 with 1 Axes>"
      ]
     },
     "metadata": {
      "needs_background": "light"
     },
     "output_type": "display_data"
    }
   ],
   "source": [
    "# 특정 유저가 어느 시기에 많은 interaction을 했는가\n",
    "old_df = train_df[train_df['user'] == active_user_ids[0]] # Specific user id\n",
    "converted_df = old_df\n",
    "\n",
    "for old_time in old_df['timestamp']:\n",
    "    new_time = time.strftime('%Y-%m', time.localtime(old_time))\n",
    "    converted_df['timestamp'] = old_df['timestamp'].replace([old_time], new_time) # replace the time column\n",
    "\n",
    "converted_df['timestamp'].value_counts().plot(kind = 'bar', figsize = (8,7))\n",
    "plt.xlabel('year-month')\n",
    "plt.ylabel('# of movies')\n",
    "plt.title('Statistics of user activity')"
   ]
  }
 ],
 "metadata": {
  "kernelspec": {
   "display_name": "movie_rec",
   "language": "python",
   "name": "python3"
  },
  "language_info": {
   "codemirror_mode": {
    "name": "ipython",
    "version": 3
   },
   "file_extension": ".py",
   "mimetype": "text/x-python",
   "name": "python",
   "nbconvert_exporter": "python",
   "pygments_lexer": "ipython3",
   "version": "3.10.8 (main, Nov 24 2022, 14:13:03) [GCC 11.2.0]"
  },
  "orig_nbformat": 4,
  "vscode": {
   "interpreter": {
    "hash": "3d4ebc8f5be3b9760b7b8c89820e25f6cc4c8c3873d1ecd46134e38c918e05a9"
   }
  }
 },
 "nbformat": 4,
 "nbformat_minor": 2
}
