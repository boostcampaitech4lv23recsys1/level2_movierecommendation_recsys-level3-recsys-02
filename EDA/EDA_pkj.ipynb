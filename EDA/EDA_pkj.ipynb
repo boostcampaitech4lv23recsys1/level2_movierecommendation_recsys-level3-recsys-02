{
 "cells": [
  {
   "cell_type": "code",
   "execution_count": 1,
   "id": "64150897-8eab-4110-980f-2764bdd46091",
   "metadata": {},
   "outputs": [
    {
     "data": {
      "text/html": [
       "<div>\n",
       "<style scoped>\n",
       "    .dataframe tbody tr th:only-of-type {\n",
       "        vertical-align: middle;\n",
       "    }\n",
       "\n",
       "    .dataframe tbody tr th {\n",
       "        vertical-align: top;\n",
       "    }\n",
       "\n",
       "    .dataframe thead th {\n",
       "        text-align: right;\n",
       "    }\n",
       "</style>\n",
       "<table border=\"1\" class=\"dataframe\">\n",
       "  <thead>\n",
       "    <tr style=\"text-align: right;\">\n",
       "      <th></th>\n",
       "      <th>item</th>\n",
       "      <th>director</th>\n",
       "    </tr>\n",
       "  </thead>\n",
       "  <tbody>\n",
       "    <tr>\n",
       "      <th>598</th>\n",
       "      <td>1719</td>\n",
       "      <td>nm0000382</td>\n",
       "    </tr>\n",
       "    <tr>\n",
       "      <th>3939</th>\n",
       "      <td>6327</td>\n",
       "      <td>nm0481418</td>\n",
       "    </tr>\n",
       "    <tr>\n",
       "      <th>368</th>\n",
       "      <td>8755</td>\n",
       "      <td>nm0000217</td>\n",
       "    </tr>\n",
       "    <tr>\n",
       "      <th>682</th>\n",
       "      <td>26562</td>\n",
       "      <td>nm0000431</td>\n",
       "    </tr>\n",
       "    <tr>\n",
       "      <th>2559</th>\n",
       "      <td>36527</td>\n",
       "      <td>nm0006960</td>\n",
       "    </tr>\n",
       "  </tbody>\n",
       "</table>\n",
       "</div>"
      ],
      "text/plain": [
       "       item   director\n",
       "598    1719  nm0000382\n",
       "3939   6327  nm0481418\n",
       "368    8755  nm0000217\n",
       "682   26562  nm0000431\n",
       "2559  36527  nm0006960"
      ]
     },
     "execution_count": 1,
     "metadata": {},
     "output_type": "execute_result"
    }
   ],
   "source": [
    "import pandas as pd\n",
    "\n",
    "di = pd.read_csv('directors.tsv', sep='\\t')\n",
    "di.sample(5)"
   ]
  },
  {
   "cell_type": "code",
   "execution_count": 2,
   "id": "97c58eb0-c2b4-4024-8494-30e974c6354d",
   "metadata": {},
   "outputs": [
    {
     "data": {
      "text/plain": [
       "item        5503\n",
       "director    1340\n",
       "dtype: int64"
      ]
     },
     "execution_count": 2,
     "metadata": {},
     "output_type": "execute_result"
    }
   ],
   "source": [
    "di.nunique()"
   ]
  },
  {
   "cell_type": "code",
   "execution_count": 28,
   "id": "19c353c9-2759-4f78-8bda-611f2a8fd674",
   "metadata": {},
   "outputs": [
    {
     "data": {
      "text/plain": [
       "item\n",
       "1                [330]\n",
       "2                [293]\n",
       "3                [542]\n",
       "4                [256]\n",
       "5               [1093]\n",
       "              ...     \n",
       "118696           [203]\n",
       "118900          [1168]\n",
       "118997           [855]\n",
       "119141    [1032, 1313]\n",
       "119145          [1174]\n",
       "Name: director, Length: 5503, dtype: object"
      ]
     },
     "execution_count": 28,
     "metadata": {},
     "output_type": "execute_result"
    }
   ],
   "source": [
    "array, index = pd.factorize(di[\"director\"])\n",
    "di[\"director\"] = array\n",
    "di.groupby(\"item\")[\"director\"].apply(list)"
   ]
  },
  {
   "cell_type": "code",
   "execution_count": 3,
   "id": "7a8112a2-0fb7-42ec-8c95-e688422e6c5a",
   "metadata": {},
   "outputs": [
    {
     "data": {
      "text/html": [
       "<div>\n",
       "<style scoped>\n",
       "    .dataframe tbody tr th:only-of-type {\n",
       "        vertical-align: middle;\n",
       "    }\n",
       "\n",
       "    .dataframe tbody tr th {\n",
       "        vertical-align: top;\n",
       "    }\n",
       "\n",
       "    .dataframe thead th {\n",
       "        text-align: right;\n",
       "    }\n",
       "</style>\n",
       "<table border=\"1\" class=\"dataframe\">\n",
       "  <thead>\n",
       "    <tr style=\"text-align: right;\">\n",
       "      <th></th>\n",
       "      <th>item</th>\n",
       "      <th>genre</th>\n",
       "    </tr>\n",
       "  </thead>\n",
       "  <tbody>\n",
       "    <tr>\n",
       "      <th>12819</th>\n",
       "      <td>1487</td>\n",
       "      <td>Drama</td>\n",
       "    </tr>\n",
       "    <tr>\n",
       "      <th>3385</th>\n",
       "      <td>32598</td>\n",
       "      <td>Comedy</td>\n",
       "    </tr>\n",
       "    <tr>\n",
       "      <th>9549</th>\n",
       "      <td>6624</td>\n",
       "      <td>Fantasy</td>\n",
       "    </tr>\n",
       "    <tr>\n",
       "      <th>9357</th>\n",
       "      <td>3388</td>\n",
       "      <td>Children</td>\n",
       "    </tr>\n",
       "    <tr>\n",
       "      <th>4753</th>\n",
       "      <td>62203</td>\n",
       "      <td>Horror</td>\n",
       "    </tr>\n",
       "  </tbody>\n",
       "</table>\n",
       "</div>"
      ],
      "text/plain": [
       "        item     genre\n",
       "12819   1487     Drama\n",
       "3385   32598    Comedy\n",
       "9549    6624   Fantasy\n",
       "9357    3388  Children\n",
       "4753   62203    Horror"
      ]
     },
     "execution_count": 3,
     "metadata": {},
     "output_type": "execute_result"
    }
   ],
   "source": [
    "ge = pd.read_csv('genres.tsv', sep='\\t')\n",
    "ge.sample(5)"
   ]
  },
  {
   "cell_type": "code",
   "execution_count": 4,
   "id": "34f92d19-5062-4199-a402-ccceb00a4f18",
   "metadata": {},
   "outputs": [
    {
     "data": {
      "text/plain": [
       "item     6807\n",
       "genre      18\n",
       "dtype: int64"
      ]
     },
     "execution_count": 4,
     "metadata": {},
     "output_type": "execute_result"
    }
   ],
   "source": [
    "ge.nunique()"
   ]
  },
  {
   "cell_type": "code",
   "execution_count": 27,
   "id": "f163b0e9-a538-4166-b4a2-28cd826d1506",
   "metadata": {},
   "outputs": [
    {
     "data": {
      "text/plain": [
       "item\n",
       "1         [8, 12, 13, 5, 9]\n",
       "2                [8, 13, 9]\n",
       "3                    [5, 6]\n",
       "4                 [5, 1, 6]\n",
       "5                       [5]\n",
       "                ...        \n",
       "118700                  [1]\n",
       "118900                  [1]\n",
       "118997       [13, 5, 9, 15]\n",
       "119141               [2, 5]\n",
       "119145         [2, 8, 5, 0]\n",
       "Name: genre, Length: 6807, dtype: object"
      ]
     },
     "execution_count": 27,
     "metadata": {},
     "output_type": "execute_result"
    }
   ],
   "source": [
    "array, index = pd.factorize(ge[\"genre\"])\n",
    "ge[\"genre\"] = array\n",
    "ge.groupby(\"item\")[\"genre\"].apply(list)"
   ]
  },
  {
   "cell_type": "code",
   "execution_count": 5,
   "id": "7279e3f7-e8de-4640-a4e8-35b150646815",
   "metadata": {},
   "outputs": [
    {
     "data": {
      "text/html": [
       "<div>\n",
       "<style scoped>\n",
       "    .dataframe tbody tr th:only-of-type {\n",
       "        vertical-align: middle;\n",
       "    }\n",
       "\n",
       "    .dataframe tbody tr th {\n",
       "        vertical-align: top;\n",
       "    }\n",
       "\n",
       "    .dataframe thead th {\n",
       "        text-align: right;\n",
       "    }\n",
       "</style>\n",
       "<table border=\"1\" class=\"dataframe\">\n",
       "  <thead>\n",
       "    <tr style=\"text-align: right;\">\n",
       "      <th></th>\n",
       "      <th>item</th>\n",
       "      <th>title</th>\n",
       "    </tr>\n",
       "  </thead>\n",
       "  <tbody>\n",
       "    <tr>\n",
       "      <th>6641</th>\n",
       "      <td>2609</td>\n",
       "      <td>King of Masks, The (Bian Lian) (1996)</td>\n",
       "    </tr>\n",
       "    <tr>\n",
       "      <th>1889</th>\n",
       "      <td>1785</td>\n",
       "      <td>King of New York (1990)</td>\n",
       "    </tr>\n",
       "    <tr>\n",
       "      <th>1029</th>\n",
       "      <td>27728</td>\n",
       "      <td>Ghost in the Shell 2: Innocence (a.k.a. Innoce...</td>\n",
       "    </tr>\n",
       "    <tr>\n",
       "      <th>4270</th>\n",
       "      <td>7345</td>\n",
       "      <td>Agent Cody Banks 2: Destination London (2004)</td>\n",
       "    </tr>\n",
       "    <tr>\n",
       "      <th>986</th>\n",
       "      <td>8154</td>\n",
       "      <td>Dolce Vita, La (1960)</td>\n",
       "    </tr>\n",
       "  </tbody>\n",
       "</table>\n",
       "</div>"
      ],
      "text/plain": [
       "       item                                              title\n",
       "6641   2609              King of Masks, The (Bian Lian) (1996)\n",
       "1889   1785                            King of New York (1990)\n",
       "1029  27728  Ghost in the Shell 2: Innocence (a.k.a. Innoce...\n",
       "4270   7345      Agent Cody Banks 2: Destination London (2004)\n",
       "986    8154                              Dolce Vita, La (1960)"
      ]
     },
     "execution_count": 5,
     "metadata": {},
     "output_type": "execute_result"
    }
   ],
   "source": [
    "ti = pd.read_csv('titles.tsv', sep='\\t')\n",
    "ti.sample(5)"
   ]
  },
  {
   "cell_type": "code",
   "execution_count": 6,
   "id": "5cc96bc2-4aa1-4b95-b4e1-ca04b03e13d7",
   "metadata": {},
   "outputs": [
    {
     "data": {
      "text/plain": [
       "item     6807\n",
       "title    6806\n",
       "a        6616\n",
       "dtype: int64"
      ]
     },
     "execution_count": 6,
     "metadata": {},
     "output_type": "execute_result"
    }
   ],
   "source": [
    "ti['a'] = ti['title'].str[:-6]\n",
    "ti.nunique()"
   ]
  },
  {
   "cell_type": "code",
   "execution_count": 7,
   "id": "691b5a87-78c8-4acd-a10c-bd791e785255",
   "metadata": {},
   "outputs": [
    {
     "data": {
      "text/html": [
       "<div>\n",
       "<style scoped>\n",
       "    .dataframe tbody tr th:only-of-type {\n",
       "        vertical-align: middle;\n",
       "    }\n",
       "\n",
       "    .dataframe tbody tr th {\n",
       "        vertical-align: top;\n",
       "    }\n",
       "\n",
       "    .dataframe thead th {\n",
       "        text-align: right;\n",
       "    }\n",
       "</style>\n",
       "<table border=\"1\" class=\"dataframe\">\n",
       "  <thead>\n",
       "    <tr style=\"text-align: right;\">\n",
       "      <th></th>\n",
       "      <th>item</th>\n",
       "      <th>title</th>\n",
       "      <th>a</th>\n",
       "    </tr>\n",
       "  </thead>\n",
       "  <tbody>\n",
       "    <tr>\n",
       "      <th>1926</th>\n",
       "      <td>64997</td>\n",
       "      <td>War of the Worlds (2005)</td>\n",
       "      <td>War of the Worlds</td>\n",
       "    </tr>\n",
       "  </tbody>\n",
       "</table>\n",
       "</div>"
      ],
      "text/plain": [
       "       item                     title                   a\n",
       "1926  64997  War of the Worlds (2005)  War of the Worlds "
      ]
     },
     "execution_count": 7,
     "metadata": {},
     "output_type": "execute_result"
    }
   ],
   "source": [
    "ti[ti.duplicated(subset='title')]"
   ]
  },
  {
   "cell_type": "code",
   "execution_count": 8,
   "id": "fa35bf11-bcb8-4e4d-a4d4-76c4b5675c22",
   "metadata": {},
   "outputs": [
    {
     "data": {
      "text/html": [
       "<div>\n",
       "<style scoped>\n",
       "    .dataframe tbody tr th:only-of-type {\n",
       "        vertical-align: middle;\n",
       "    }\n",
       "\n",
       "    .dataframe tbody tr th {\n",
       "        vertical-align: top;\n",
       "    }\n",
       "\n",
       "    .dataframe thead th {\n",
       "        text-align: right;\n",
       "    }\n",
       "</style>\n",
       "<table border=\"1\" class=\"dataframe\">\n",
       "  <thead>\n",
       "    <tr style=\"text-align: right;\">\n",
       "      <th></th>\n",
       "      <th>item</th>\n",
       "      <th>title</th>\n",
       "      <th>a</th>\n",
       "    </tr>\n",
       "  </thead>\n",
       "  <tbody>\n",
       "    <tr>\n",
       "      <th>704</th>\n",
       "      <td>74789</td>\n",
       "      <td>Alice in Wonderland (2010)</td>\n",
       "      <td>Alice in Wonderland</td>\n",
       "    </tr>\n",
       "    <tr>\n",
       "      <th>744</th>\n",
       "      <td>2366</td>\n",
       "      <td>King Kong (1933)</td>\n",
       "      <td>King Kong</td>\n",
       "    </tr>\n",
       "    <tr>\n",
       "      <th>898</th>\n",
       "      <td>8781</td>\n",
       "      <td>Manchurian Candidate, The (2004)</td>\n",
       "      <td>Manchurian Candidate, The</td>\n",
       "    </tr>\n",
       "    <tr>\n",
       "      <th>1101</th>\n",
       "      <td>7001</td>\n",
       "      <td>Invasion of the Body Snatchers (1978)</td>\n",
       "      <td>Invasion of the Body Snatchers</td>\n",
       "    </tr>\n",
       "    <tr>\n",
       "      <th>1111</th>\n",
       "      <td>4703</td>\n",
       "      <td>Chocolat (1988)</td>\n",
       "      <td>Chocolat</td>\n",
       "    </tr>\n",
       "    <tr>\n",
       "      <th>...</th>\n",
       "      <td>...</td>\n",
       "      <td>...</td>\n",
       "      <td>...</td>\n",
       "    </tr>\n",
       "    <tr>\n",
       "      <th>6745</th>\n",
       "      <td>40962</td>\n",
       "      <td>Yours, Mine and Ours (2005)</td>\n",
       "      <td>Yours, Mine and Ours</td>\n",
       "    </tr>\n",
       "    <tr>\n",
       "      <th>6749</th>\n",
       "      <td>71460</td>\n",
       "      <td>Wanted (2009)</td>\n",
       "      <td>Wanted</td>\n",
       "    </tr>\n",
       "    <tr>\n",
       "      <th>6781</th>\n",
       "      <td>8912</td>\n",
       "      <td>Taxi (2004)</td>\n",
       "      <td>Taxi</td>\n",
       "    </tr>\n",
       "    <tr>\n",
       "      <th>6796</th>\n",
       "      <td>1430</td>\n",
       "      <td>Underworld (1996)</td>\n",
       "      <td>Underworld</td>\n",
       "    </tr>\n",
       "    <tr>\n",
       "      <th>6806</th>\n",
       "      <td>8130</td>\n",
       "      <td>Girl Next Door, The (1999)</td>\n",
       "      <td>Girl Next Door, The</td>\n",
       "    </tr>\n",
       "  </tbody>\n",
       "</table>\n",
       "<p>191 rows × 3 columns</p>\n",
       "</div>"
      ],
      "text/plain": [
       "       item                                  title  \\\n",
       "704   74789             Alice in Wonderland (2010)   \n",
       "744    2366                       King Kong (1933)   \n",
       "898    8781       Manchurian Candidate, The (2004)   \n",
       "1101   7001  Invasion of the Body Snatchers (1978)   \n",
       "1111   4703                        Chocolat (1988)   \n",
       "...     ...                                    ...   \n",
       "6745  40962            Yours, Mine and Ours (2005)   \n",
       "6749  71460                          Wanted (2009)   \n",
       "6781   8912                            Taxi (2004)   \n",
       "6796   1430                      Underworld (1996)   \n",
       "6806   8130             Girl Next Door, The (1999)   \n",
       "\n",
       "                                    a  \n",
       "704              Alice in Wonderland   \n",
       "744                        King Kong   \n",
       "898        Manchurian Candidate, The   \n",
       "1101  Invasion of the Body Snatchers   \n",
       "1111                        Chocolat   \n",
       "...                               ...  \n",
       "6745            Yours, Mine and Ours   \n",
       "6749                          Wanted   \n",
       "6781                            Taxi   \n",
       "6796                      Underworld   \n",
       "6806             Girl Next Door, The   \n",
       "\n",
       "[191 rows x 3 columns]"
      ]
     },
     "execution_count": 8,
     "metadata": {},
     "output_type": "execute_result"
    }
   ],
   "source": [
    "ti[ti.duplicated(subset='a')]"
   ]
  },
  {
   "cell_type": "code",
   "execution_count": 9,
   "id": "b0ef7421-9233-49e0-960d-02ac73e2fb47",
   "metadata": {},
   "outputs": [
    {
     "data": {
      "text/html": [
       "<div>\n",
       "<style scoped>\n",
       "    .dataframe tbody tr th:only-of-type {\n",
       "        vertical-align: middle;\n",
       "    }\n",
       "\n",
       "    .dataframe tbody tr th {\n",
       "        vertical-align: top;\n",
       "    }\n",
       "\n",
       "    .dataframe thead th {\n",
       "        text-align: right;\n",
       "    }\n",
       "</style>\n",
       "<table border=\"1\" class=\"dataframe\">\n",
       "  <thead>\n",
       "    <tr style=\"text-align: right;\">\n",
       "      <th></th>\n",
       "      <th>item</th>\n",
       "      <th>title</th>\n",
       "      <th>a</th>\n",
       "    </tr>\n",
       "  </thead>\n",
       "  <tbody>\n",
       "    <tr>\n",
       "      <th>340</th>\n",
       "      <td>41569</td>\n",
       "      <td>King Kong (2005)</td>\n",
       "      <td>King Kong</td>\n",
       "    </tr>\n",
       "    <tr>\n",
       "      <th>744</th>\n",
       "      <td>2366</td>\n",
       "      <td>King Kong (1933)</td>\n",
       "      <td>King Kong</td>\n",
       "    </tr>\n",
       "    <tr>\n",
       "      <th>3783</th>\n",
       "      <td>2367</td>\n",
       "      <td>King Kong (1976)</td>\n",
       "      <td>King Kong</td>\n",
       "    </tr>\n",
       "  </tbody>\n",
       "</table>\n",
       "</div>"
      ],
      "text/plain": [
       "       item             title           a\n",
       "340   41569  King Kong (2005)  King Kong \n",
       "744    2366  King Kong (1933)  King Kong \n",
       "3783   2367  King Kong (1976)  King Kong "
      ]
     },
     "execution_count": 9,
     "metadata": {},
     "output_type": "execute_result"
    }
   ],
   "source": [
    "ti[ti['a']=='King Kong ']"
   ]
  },
  {
   "cell_type": "code",
   "execution_count": 10,
   "id": "5e1ae7cc-c9ce-4865-a4eb-424d1dc75f10",
   "metadata": {},
   "outputs": [
    {
     "data": {
      "text/html": [
       "<div>\n",
       "<style scoped>\n",
       "    .dataframe tbody tr th:only-of-type {\n",
       "        vertical-align: middle;\n",
       "    }\n",
       "\n",
       "    .dataframe tbody tr th {\n",
       "        vertical-align: top;\n",
       "    }\n",
       "\n",
       "    .dataframe thead th {\n",
       "        text-align: right;\n",
       "    }\n",
       "</style>\n",
       "<table border=\"1\" class=\"dataframe\">\n",
       "  <thead>\n",
       "    <tr style=\"text-align: right;\">\n",
       "      <th></th>\n",
       "      <th>item</th>\n",
       "      <th>title</th>\n",
       "      <th>a</th>\n",
       "    </tr>\n",
       "  </thead>\n",
       "  <tbody>\n",
       "    <tr>\n",
       "      <th>349</th>\n",
       "      <td>34048</td>\n",
       "      <td>War of the Worlds (2005)</td>\n",
       "      <td>War of the Worlds</td>\n",
       "    </tr>\n",
       "    <tr>\n",
       "      <th>1926</th>\n",
       "      <td>64997</td>\n",
       "      <td>War of the Worlds (2005)</td>\n",
       "      <td>War of the Worlds</td>\n",
       "    </tr>\n",
       "  </tbody>\n",
       "</table>\n",
       "</div>"
      ],
      "text/plain": [
       "       item                     title                   a\n",
       "349   34048  War of the Worlds (2005)  War of the Worlds \n",
       "1926  64997  War of the Worlds (2005)  War of the Worlds "
      ]
     },
     "execution_count": 10,
     "metadata": {},
     "output_type": "execute_result"
    }
   ],
   "source": [
    "ti[ti['a']=='War of the Worlds ']"
   ]
  },
  {
   "cell_type": "code",
   "execution_count": 11,
   "id": "9b153abf-9f3b-4ce1-a5b4-9fbb8ab3b90a",
   "metadata": {},
   "outputs": [
    {
     "data": {
      "text/plain": [
       "(       item   genre\n",
       " 4735  64997  Action\n",
       " 4736  64997  Sci-Fi,\n",
       "        item      genre\n",
       " 1001  34048     Action\n",
       " 1002  34048  Adventure\n",
       " 1003  34048     Sci-Fi\n",
       " 1004  34048   Thriller)"
      ]
     },
     "execution_count": 11,
     "metadata": {},
     "output_type": "execute_result"
    }
   ],
   "source": [
    "ge[ge.item==64997], ge[ge.item==34048]"
   ]
  },
  {
   "cell_type": "code",
   "execution_count": 12,
   "id": "ac0515e4-6449-45df-ab75-11d6ab58ab37",
   "metadata": {},
   "outputs": [
    {
     "data": {
      "text/plain": [
       "(Empty DataFrame\n",
       " Columns: [item, director]\n",
       " Index: [],\n",
       "       item   director\n",
       " 384  34048  nm0000229)"
      ]
     },
     "execution_count": 12,
     "metadata": {},
     "output_type": "execute_result"
    }
   ],
   "source": [
    "di[di.item==64997], di[di.item==34048]"
   ]
  },
  {
   "cell_type": "code",
   "execution_count": 13,
   "id": "ef55ceea-d81c-4c1a-ac9c-cc0361d81402",
   "metadata": {},
   "outputs": [
    {
     "data": {
      "text/html": [
       "<div>\n",
       "<style scoped>\n",
       "    .dataframe tbody tr th:only-of-type {\n",
       "        vertical-align: middle;\n",
       "    }\n",
       "\n",
       "    .dataframe tbody tr th {\n",
       "        vertical-align: top;\n",
       "    }\n",
       "\n",
       "    .dataframe thead th {\n",
       "        text-align: right;\n",
       "    }\n",
       "</style>\n",
       "<table border=\"1\" class=\"dataframe\">\n",
       "  <thead>\n",
       "    <tr style=\"text-align: right;\">\n",
       "      <th></th>\n",
       "      <th>item</th>\n",
       "      <th>writer</th>\n",
       "    </tr>\n",
       "  </thead>\n",
       "  <tbody>\n",
       "    <tr>\n",
       "      <th>1565</th>\n",
       "      <td>788</td>\n",
       "      <td>nm0001723</td>\n",
       "    </tr>\n",
       "    <tr>\n",
       "      <th>5287</th>\n",
       "      <td>26064</td>\n",
       "      <td>nm0368074</td>\n",
       "    </tr>\n",
       "    <tr>\n",
       "      <th>6378</th>\n",
       "      <td>86548</td>\n",
       "      <td>nm0481418</td>\n",
       "    </tr>\n",
       "    <tr>\n",
       "      <th>10660</th>\n",
       "      <td>5785</td>\n",
       "      <td>nm1035634</td>\n",
       "    </tr>\n",
       "    <tr>\n",
       "      <th>7721</th>\n",
       "      <td>37477</td>\n",
       "      <td>nm0643315</td>\n",
       "    </tr>\n",
       "  </tbody>\n",
       "</table>\n",
       "</div>"
      ],
      "text/plain": [
       "        item     writer\n",
       "1565     788  nm0001723\n",
       "5287   26064  nm0368074\n",
       "6378   86548  nm0481418\n",
       "10660   5785  nm1035634\n",
       "7721   37477  nm0643315"
      ]
     },
     "execution_count": 13,
     "metadata": {},
     "output_type": "execute_result"
    }
   ],
   "source": [
    "wr = pd.read_csv('writers.tsv', sep='\\t')\n",
    "wr.sample(5)"
   ]
  },
  {
   "cell_type": "code",
   "execution_count": 14,
   "id": "482ddb27-7352-4681-a10d-a9c7dfb7b57e",
   "metadata": {},
   "outputs": [
    {
     "data": {
      "text/plain": [
       "item      5648\n",
       "writer    2989\n",
       "dtype: int64"
      ]
     },
     "execution_count": 14,
     "metadata": {},
     "output_type": "execute_result"
    }
   ],
   "source": [
    "wr.nunique()"
   ]
  },
  {
   "cell_type": "code",
   "execution_count": 15,
   "id": "ebea2426-810b-48f3-bdfb-59f948a6c3dd",
   "metadata": {},
   "outputs": [
    {
     "data": {
      "text/plain": [
       "(        item     writer\n",
       " 10158  64997  nm0920229,\n",
       "         item     writer\n",
       " 4527   34048  nm0295264\n",
       " 6221   34048  nm0462895\n",
       " 10154  34048  nm0920229)"
      ]
     },
     "execution_count": 15,
     "metadata": {},
     "output_type": "execute_result"
    }
   ],
   "source": [
    "wr[wr.item==64997], wr[wr.item==34048]"
   ]
  },
  {
   "cell_type": "code",
   "execution_count": 16,
   "id": "67d6e44e-7cf1-4a1b-9dc2-1b1cb3fe8201",
   "metadata": {},
   "outputs": [
    {
     "data": {
      "text/html": [
       "<div>\n",
       "<style scoped>\n",
       "    .dataframe tbody tr th:only-of-type {\n",
       "        vertical-align: middle;\n",
       "    }\n",
       "\n",
       "    .dataframe tbody tr th {\n",
       "        vertical-align: top;\n",
       "    }\n",
       "\n",
       "    .dataframe thead th {\n",
       "        text-align: right;\n",
       "    }\n",
       "</style>\n",
       "<table border=\"1\" class=\"dataframe\">\n",
       "  <thead>\n",
       "    <tr style=\"text-align: right;\">\n",
       "      <th></th>\n",
       "      <th>item</th>\n",
       "      <th>year</th>\n",
       "    </tr>\n",
       "  </thead>\n",
       "  <tbody>\n",
       "    <tr>\n",
       "      <th>6427</th>\n",
       "      <td>87485</td>\n",
       "      <td>2011</td>\n",
       "    </tr>\n",
       "    <tr>\n",
       "      <th>6684</th>\n",
       "      <td>103141</td>\n",
       "      <td>2013</td>\n",
       "    </tr>\n",
       "    <tr>\n",
       "      <th>3658</th>\n",
       "      <td>3273</td>\n",
       "      <td>2000</td>\n",
       "    </tr>\n",
       "    <tr>\n",
       "      <th>6397</th>\n",
       "      <td>87876</td>\n",
       "      <td>2011</td>\n",
       "    </tr>\n",
       "    <tr>\n",
       "      <th>4831</th>\n",
       "      <td>37727</td>\n",
       "      <td>2005</td>\n",
       "    </tr>\n",
       "  </tbody>\n",
       "</table>\n",
       "</div>"
      ],
      "text/plain": [
       "        item  year\n",
       "6427   87485  2011\n",
       "6684  103141  2013\n",
       "3658    3273  2000\n",
       "6397   87876  2011\n",
       "4831   37727  2005"
      ]
     },
     "execution_count": 16,
     "metadata": {},
     "output_type": "execute_result"
    }
   ],
   "source": [
    "ye = pd.read_csv('years.tsv', sep='\\t')\n",
    "ye.sample(5)"
   ]
  },
  {
   "cell_type": "code",
   "execution_count": 17,
   "id": "558e7476-1a81-4603-8d99-f470f40480c0",
   "metadata": {},
   "outputs": [
    {
     "data": {
      "text/plain": [
       "item    6799\n",
       "year      93\n",
       "dtype: int64"
      ]
     },
     "execution_count": 17,
     "metadata": {},
     "output_type": "execute_result"
    }
   ],
   "source": [
    "ye.nunique()"
   ]
  },
  {
   "cell_type": "code",
   "execution_count": 29,
   "id": "2368fe7a-2794-4329-91b5-8269534b5b93",
   "metadata": {},
   "outputs": [],
   "source": [
    "df = pd.read_csv('train_ratings.csv')"
   ]
  },
  {
   "cell_type": "code",
   "execution_count": 30,
   "id": "d295d9ef-d784-45bb-bff9-169fcca9dce8",
   "metadata": {},
   "outputs": [
    {
     "data": {
      "text/plain": [
       "t\n",
       "2005    572894\n",
       "2006    647240\n",
       "2007    589945\n",
       "2008    679269\n",
       "2009    517366\n",
       "2010    510385\n",
       "2011    427103\n",
       "2012    421942\n",
       "2013    338109\n",
       "2014    308281\n",
       "2015    141937\n",
       "Name: time, dtype: int64"
      ]
     },
     "execution_count": 30,
     "metadata": {},
     "output_type": "execute_result"
    }
   ],
   "source": [
    "df['t'] = df['time'].apply(lambda x : time.strftime('%Y', time.localtime(x)))\n",
    "df.groupby('t')['time'].count()"
   ]
  },
  {
   "cell_type": "code",
   "execution_count": 52,
   "id": "91cff790-662d-4ff8-99fb-be8575f7215a",
   "metadata": {},
   "outputs": [],
   "source": [
    "import time\n",
    "a = df.groupby('user')['time'].min().to_frame()\n",
    "b = df.groupby('user')['time'].max().to_frame()\n",
    "a['time'] = a['time'].apply(lambda x : time.strftime('%Y', time.localtime(x)))\n",
    "b['time'] = b['time'].apply(lambda x : time.strftime('%Y', time.localtime(x)))"
   ]
  },
  {
   "cell_type": "code",
   "execution_count": 21,
   "id": "ce23d6d4-762a-43e8-8b71-edff61433c2c",
   "metadata": {},
   "outputs": [
    {
     "data": {
      "text/plain": [
       "time\n",
       "2005    5263\n",
       "2006    3690\n",
       "2007    3351\n",
       "2008    4026\n",
       "2009    2954\n",
       "2010    2948\n",
       "2011    2426\n",
       "2012    2321\n",
       "2013    1897\n",
       "2014    1718\n",
       "2015     766\n",
       "Name: time, dtype: int64"
      ]
     },
     "execution_count": 21,
     "metadata": {},
     "output_type": "execute_result"
    }
   ],
   "source": [
    "a.groupby('time')['time'].count()\n",
    "# 신규 유저 -> sequence 길이가 짧음 -> 제거 대상 -> 따라서 연도가 지나면서 유저 수가 줄어듦 -> 따라서 연도별 interection도 줄어듦\n",
    "# 뒤 늦게 참여한 user는 제거 대상에 해당 안된 친구들이니 (sequence길이가 일정 이상) interection의 밀도가 높을 것임"
   ]
  },
  {
   "cell_type": "code",
   "execution_count": 32,
   "id": "5e4990e4-7370-4e02-a4dc-ea73f40bca12",
   "metadata": {},
   "outputs": [
    {
     "data": {
      "text/plain": [
       "time\n",
       "2005    2147\n",
       "2006    2950\n",
       "2007    3001\n",
       "2008    3528\n",
       "2009    2960\n",
       "2010    2974\n",
       "2011    2750\n",
       "2012    2887\n",
       "2013    2625\n",
       "2014    3006\n",
       "2015    2532\n",
       "Name: time, dtype: int64"
      ]
     },
     "execution_count": 32,
     "metadata": {},
     "output_type": "execute_result"
    }
   ],
   "source": [
    "b.groupby('time')['time'].count()"
   ]
  },
  {
   "cell_type": "code",
   "execution_count": 22,
   "id": "e2e20790-e563-4b32-af61-3a0b720469eb",
   "metadata": {},
   "outputs": [
    {
     "data": {
      "text/html": [
       "<div>\n",
       "<style scoped>\n",
       "    .dataframe tbody tr th:only-of-type {\n",
       "        vertical-align: middle;\n",
       "    }\n",
       "\n",
       "    .dataframe tbody tr th {\n",
       "        vertical-align: top;\n",
       "    }\n",
       "\n",
       "    .dataframe thead th {\n",
       "        text-align: right;\n",
       "    }\n",
       "</style>\n",
       "<table border=\"1\" class=\"dataframe\">\n",
       "  <thead>\n",
       "    <tr style=\"text-align: right;\">\n",
       "      <th></th>\n",
       "      <th></th>\n",
       "      <th>time</th>\n",
       "    </tr>\n",
       "    <tr>\n",
       "      <th>user</th>\n",
       "      <th>item</th>\n",
       "      <th></th>\n",
       "    </tr>\n",
       "  </thead>\n",
       "  <tbody>\n",
       "  </tbody>\n",
       "</table>\n",
       "</div>"
      ],
      "text/plain": [
       "Empty DataFrame\n",
       "Columns: [time]\n",
       "Index: []"
      ]
     },
     "execution_count": 22,
     "metadata": {},
     "output_type": "execute_result"
    }
   ],
   "source": [
    "a = df.groupby(['user', 'item'])['time'].count().to_frame()\n",
    "a[a['time'] != 1] # 똑같은 영화를 본 data 없음."
   ]
  },
  {
   "cell_type": "code",
   "execution_count": 95,
   "id": "97845305-a49e-4555-9445-de586fe7d981",
   "metadata": {},
   "outputs": [],
   "source": [
    "import re\n",
    "def year(s):\n",
    "    s = s.split('(')\n",
    "    answer = []\n",
    "    for i in s:\n",
    "        if ')' not in i:\n",
    "            continue\n",
    "        a = re.sub(r'[^0-9]', '', i)\n",
    "        if len(a) == 4:\n",
    "            return a\n",
    "ti['year'] = ti['title'].apply(year)\n",
    "t = ti[['item', 'year']]"
   ]
  },
  {
   "cell_type": "code",
   "execution_count": 101,
   "id": "d06602da-3426-4cbb-9438-effa020cf48d",
   "metadata": {},
   "outputs": [
    {
     "name": "stdout",
     "output_type": "stream",
     "text": [
      "        item                                title  \\\n",
      "6043  119145  Kingsman: The Secret Service (2015)   \n",
      "\n",
      "                                  a  year  \n",
      "6043  Kingsman: The Secret Service   2015  \n",
      "       item                      title                    a  year\n",
      "5908  91535  Bourne Legacy, The (2012)  Bourne Legacy, The   2012\n",
      "       item                 title               a  year\n",
      "2933  89745  Avengers, The (2012)  Avengers, The   2012\n",
      "       item               title             a  year\n",
      "5528  99007  Warm Bodies (2013)  Warm Bodies   2013\n"
     ]
    }
   ],
   "source": [
    "w = [119145,  91535,  89745,  99007]\n",
    "for i in w:\n",
    "    print(ti[ti.item==i])"
   ]
  },
  {
   "cell_type": "code",
   "execution_count": 102,
   "id": "b109857f-6e6a-4c80-ae76-525d2531599e",
   "metadata": {},
   "outputs": [
    {
     "data": {
      "text/html": [
       "<div>\n",
       "<style scoped>\n",
       "    .dataframe tbody tr th:only-of-type {\n",
       "        vertical-align: middle;\n",
       "    }\n",
       "\n",
       "    .dataframe tbody tr th {\n",
       "        vertical-align: top;\n",
       "    }\n",
       "\n",
       "    .dataframe thead th {\n",
       "        text-align: right;\n",
       "    }\n",
       "</style>\n",
       "<table border=\"1\" class=\"dataframe\">\n",
       "  <thead>\n",
       "    <tr style=\"text-align: right;\">\n",
       "      <th></th>\n",
       "      <th>item</th>\n",
       "      <th>title</th>\n",
       "      <th>a</th>\n",
       "      <th>year</th>\n",
       "    </tr>\n",
       "  </thead>\n",
       "  <tbody>\n",
       "    <tr>\n",
       "      <th>6043</th>\n",
       "      <td>119145</td>\n",
       "      <td>Kingsman: The Secret Service (2015)</td>\n",
       "      <td>Kingsman: The Secret Service</td>\n",
       "      <td>2015</td>\n",
       "    </tr>\n",
       "  </tbody>\n",
       "</table>\n",
       "</div>"
      ],
      "text/plain": [
       "        item                                title  \\\n",
       "6043  119145  Kingsman: The Secret Service (2015)   \n",
       "\n",
       "                                  a  year  \n",
       "6043  Kingsman: The Secret Service   2015  "
      ]
     },
     "execution_count": 102,
     "metadata": {},
     "output_type": "execute_result"
    }
   ],
   "source": [
    "ti[ti.item==119145]"
   ]
  },
  {
   "cell_type": "code",
   "execution_count": 98,
   "id": "64faee04-25a4-4382-9d26-b5d4579710f9",
   "metadata": {},
   "outputs": [
    {
     "data": {
      "text/html": [
       "<div>\n",
       "<style scoped>\n",
       "    .dataframe tbody tr th:only-of-type {\n",
       "        vertical-align: middle;\n",
       "    }\n",
       "\n",
       "    .dataframe tbody tr th {\n",
       "        vertical-align: top;\n",
       "    }\n",
       "\n",
       "    .dataframe thead th {\n",
       "        text-align: right;\n",
       "    }\n",
       "</style>\n",
       "<table border=\"1\" class=\"dataframe\">\n",
       "  <thead>\n",
       "    <tr style=\"text-align: right;\">\n",
       "      <th></th>\n",
       "      <th>user</th>\n",
       "      <th>item</th>\n",
       "      <th>time</th>\n",
       "      <th>t</th>\n",
       "      <th>year</th>\n",
       "    </tr>\n",
       "  </thead>\n",
       "  <tbody>\n",
       "    <tr>\n",
       "      <th>0</th>\n",
       "      <td>11</td>\n",
       "      <td>4643</td>\n",
       "      <td>1230782529</td>\n",
       "      <td>2009</td>\n",
       "      <td>2001</td>\n",
       "    </tr>\n",
       "    <tr>\n",
       "      <th>1</th>\n",
       "      <td>11</td>\n",
       "      <td>170</td>\n",
       "      <td>1230782534</td>\n",
       "      <td>2009</td>\n",
       "      <td>1995</td>\n",
       "    </tr>\n",
       "    <tr>\n",
       "      <th>2</th>\n",
       "      <td>11</td>\n",
       "      <td>531</td>\n",
       "      <td>1230782539</td>\n",
       "      <td>2009</td>\n",
       "      <td>1993</td>\n",
       "    </tr>\n",
       "    <tr>\n",
       "      <th>3</th>\n",
       "      <td>11</td>\n",
       "      <td>616</td>\n",
       "      <td>1230782542</td>\n",
       "      <td>2009</td>\n",
       "      <td>1970</td>\n",
       "    </tr>\n",
       "    <tr>\n",
       "      <th>4</th>\n",
       "      <td>11</td>\n",
       "      <td>2140</td>\n",
       "      <td>1230782563</td>\n",
       "      <td>2009</td>\n",
       "      <td>1982</td>\n",
       "    </tr>\n",
       "    <tr>\n",
       "      <th>...</th>\n",
       "      <td>...</td>\n",
       "      <td>...</td>\n",
       "      <td>...</td>\n",
       "      <td>...</td>\n",
       "      <td>...</td>\n",
       "    </tr>\n",
       "    <tr>\n",
       "      <th>5154466</th>\n",
       "      <td>138493</td>\n",
       "      <td>44022</td>\n",
       "      <td>1260209449</td>\n",
       "      <td>2009</td>\n",
       "      <td>2006</td>\n",
       "    </tr>\n",
       "    <tr>\n",
       "      <th>5154467</th>\n",
       "      <td>138493</td>\n",
       "      <td>4958</td>\n",
       "      <td>1260209482</td>\n",
       "      <td>2009</td>\n",
       "      <td>2001</td>\n",
       "    </tr>\n",
       "    <tr>\n",
       "      <th>5154468</th>\n",
       "      <td>138493</td>\n",
       "      <td>68319</td>\n",
       "      <td>1260209720</td>\n",
       "      <td>2009</td>\n",
       "      <td>2009</td>\n",
       "    </tr>\n",
       "    <tr>\n",
       "      <th>5154469</th>\n",
       "      <td>138493</td>\n",
       "      <td>40819</td>\n",
       "      <td>1260209726</td>\n",
       "      <td>2009</td>\n",
       "      <td>2005</td>\n",
       "    </tr>\n",
       "    <tr>\n",
       "      <th>5154470</th>\n",
       "      <td>138493</td>\n",
       "      <td>27311</td>\n",
       "      <td>1260209807</td>\n",
       "      <td>2009</td>\n",
       "      <td>2000</td>\n",
       "    </tr>\n",
       "  </tbody>\n",
       "</table>\n",
       "<p>5154471 rows × 5 columns</p>\n",
       "</div>"
      ],
      "text/plain": [
       "           user   item        time     t  year\n",
       "0            11   4643  1230782529  2009  2001\n",
       "1            11    170  1230782534  2009  1995\n",
       "2            11    531  1230782539  2009  1993\n",
       "3            11    616  1230782542  2009  1970\n",
       "4            11   2140  1230782563  2009  1982\n",
       "...         ...    ...         ...   ...   ...\n",
       "5154466  138493  44022  1260209449  2009  2006\n",
       "5154467  138493   4958  1260209482  2009  2001\n",
       "5154468  138493  68319  1260209720  2009  2009\n",
       "5154469  138493  40819  1260209726  2009  2005\n",
       "5154470  138493  27311  1260209807  2009  2000\n",
       "\n",
       "[5154471 rows x 5 columns]"
      ]
     },
     "execution_count": 98,
     "metadata": {},
     "output_type": "execute_result"
    }
   ],
   "source": [
    "df = pd.merge(df, t, on='item', how='left')\n",
    "df"
   ]
  },
  {
   "cell_type": "code",
   "execution_count": 55,
   "id": "8ee3ac28-947a-4e20-ad90-25e972674a8b",
   "metadata": {},
   "outputs": [
    {
     "data": {
      "text/plain": [
       "user\n",
       "11        2011\n",
       "14        2008\n",
       "18        2010\n",
       "25        2010\n",
       "31        2015\n",
       "          ... \n",
       "138473    2010\n",
       "138475    2005\n",
       "138486    2008\n",
       "138492    2005\n",
       "138493    2009\n",
       "Name: t, Length: 31360, dtype: object"
      ]
     },
     "execution_count": 55,
     "metadata": {},
     "output_type": "execute_result"
    }
   ],
   "source": [
    "df.groupby('user')['t'].max()"
   ]
  },
  {
   "cell_type": "code",
   "execution_count": 99,
   "id": "a6b618ce-a366-4cf3-bf35-35f19e8f1ff4",
   "metadata": {},
   "outputs": [
    {
     "data": {
      "text/html": [
       "<div>\n",
       "<style scoped>\n",
       "    .dataframe tbody tr th:only-of-type {\n",
       "        vertical-align: middle;\n",
       "    }\n",
       "\n",
       "    .dataframe tbody tr th {\n",
       "        vertical-align: top;\n",
       "    }\n",
       "\n",
       "    .dataframe thead th {\n",
       "        text-align: right;\n",
       "    }\n",
       "</style>\n",
       "<table border=\"1\" class=\"dataframe\">\n",
       "  <thead>\n",
       "    <tr style=\"text-align: right;\">\n",
       "      <th></th>\n",
       "      <th>item</th>\n",
       "      <th>time</th>\n",
       "      <th>t</th>\n",
       "      <th>year</th>\n",
       "    </tr>\n",
       "    <tr>\n",
       "      <th>user</th>\n",
       "      <th></th>\n",
       "      <th></th>\n",
       "      <th></th>\n",
       "      <th></th>\n",
       "    </tr>\n",
       "  </thead>\n",
       "  <tbody>\n",
       "    <tr>\n",
       "      <th>11</th>\n",
       "      <td>4226</td>\n",
       "      <td>1294796159</td>\n",
       "      <td>2011</td>\n",
       "      <td>2000</td>\n",
       "    </tr>\n",
       "    <tr>\n",
       "      <th>14</th>\n",
       "      <td>468</td>\n",
       "      <td>1225320550</td>\n",
       "      <td>2008</td>\n",
       "      <td>1995</td>\n",
       "    </tr>\n",
       "    <tr>\n",
       "      <th>18</th>\n",
       "      <td>71033</td>\n",
       "      <td>1283426140</td>\n",
       "      <td>2010</td>\n",
       "      <td>2009</td>\n",
       "    </tr>\n",
       "    <tr>\n",
       "      <th>25</th>\n",
       "      <td>52319</td>\n",
       "      <td>1277964502</td>\n",
       "      <td>2010</td>\n",
       "      <td>1978</td>\n",
       "    </tr>\n",
       "    <tr>\n",
       "      <th>31</th>\n",
       "      <td>5621</td>\n",
       "      <td>1424737127</td>\n",
       "      <td>2015</td>\n",
       "      <td>2002</td>\n",
       "    </tr>\n",
       "    <tr>\n",
       "      <th>...</th>\n",
       "      <td>...</td>\n",
       "      <td>...</td>\n",
       "      <td>...</td>\n",
       "      <td>...</td>\n",
       "    </tr>\n",
       "    <tr>\n",
       "      <th>138473</th>\n",
       "      <td>3578</td>\n",
       "      <td>1274234532</td>\n",
       "      <td>2010</td>\n",
       "      <td>2000</td>\n",
       "    </tr>\n",
       "    <tr>\n",
       "      <th>138475</th>\n",
       "      <td>6611</td>\n",
       "      <td>1128233734</td>\n",
       "      <td>2005</td>\n",
       "      <td>1952</td>\n",
       "    </tr>\n",
       "    <tr>\n",
       "      <th>138486</th>\n",
       "      <td>6502</td>\n",
       "      <td>1207076820</td>\n",
       "      <td>2008</td>\n",
       "      <td>2002</td>\n",
       "    </tr>\n",
       "    <tr>\n",
       "      <th>138492</th>\n",
       "      <td>3210</td>\n",
       "      <td>1115351445</td>\n",
       "      <td>2005</td>\n",
       "      <td>1982</td>\n",
       "    </tr>\n",
       "    <tr>\n",
       "      <th>138493</th>\n",
       "      <td>27311</td>\n",
       "      <td>1260209807</td>\n",
       "      <td>2009</td>\n",
       "      <td>2000</td>\n",
       "    </tr>\n",
       "  </tbody>\n",
       "</table>\n",
       "<p>31359 rows × 4 columns</p>\n",
       "</div>"
      ],
      "text/plain": [
       "         item        time     t  year\n",
       "user                                 \n",
       "11       4226  1294796159  2011  2000\n",
       "14        468  1225320550  2008  1995\n",
       "18      71033  1283426140  2010  2009\n",
       "25      52319  1277964502  2010  1978\n",
       "31       5621  1424737127  2015  2002\n",
       "...       ...         ...   ...   ...\n",
       "138473   3578  1274234532  2010  2000\n",
       "138475   6611  1128233734  2005  1952\n",
       "138486   6502  1207076820  2008  2002\n",
       "138492   3210  1115351445  2005  1982\n",
       "138493  27311  1260209807  2009  2000\n",
       "\n",
       "[31359 rows x 4 columns]"
      ]
     },
     "execution_count": 99,
     "metadata": {},
     "output_type": "execute_result"
    }
   ],
   "source": [
    "last = df.groupby('user').last()\n",
    "last[last.t >= last.year]"
   ]
  },
  {
   "cell_type": "code",
   "execution_count": 65,
   "id": "229258a2-c7df-49a6-8506-7c44fe7fd49b",
   "metadata": {},
   "outputs": [
    {
     "data": {
      "text/plain": [
       "0.9988839285714286"
      ]
     },
     "execution_count": 65,
     "metadata": {},
     "output_type": "execute_result"
    }
   ],
   "source": [
    "31325/31360"
   ]
  },
  {
   "cell_type": "code",
   "execution_count": 68,
   "id": "a9867767-121b-4b37-9aed-c6593a1a7f63",
   "metadata": {},
   "outputs": [
    {
     "data": {
      "text/plain": [
       "0.9987457490788094"
      ]
     },
     "execution_count": 68,
     "metadata": {},
     "output_type": "execute_result"
    }
   ],
   "source": [
    "len(df[df.t >= df.year]) / len(df)"
   ]
  },
  {
   "cell_type": "code",
   "execution_count": 69,
   "id": "8edb6e70-7d62-49c6-a3bf-6da4d4c3e624",
   "metadata": {},
   "outputs": [
    {
     "data": {
      "text/plain": [
       "0.9660923497290023"
      ]
     },
     "execution_count": 69,
     "metadata": {},
     "output_type": "execute_result"
    }
   ],
   "source": [
    "len(df[df.t > df.year]) / len(df)"
   ]
  },
  {
   "cell_type": "code",
   "execution_count": 103,
   "id": "dd3de303-6e97-4a7f-8038-ef03fa52ac91",
   "metadata": {},
   "outputs": [
    {
     "data": {
      "text/html": [
       "<div>\n",
       "<style scoped>\n",
       "    .dataframe tbody tr th:only-of-type {\n",
       "        vertical-align: middle;\n",
       "    }\n",
       "\n",
       "    .dataframe tbody tr th {\n",
       "        vertical-align: top;\n",
       "    }\n",
       "\n",
       "    .dataframe thead th {\n",
       "        text-align: right;\n",
       "    }\n",
       "</style>\n",
       "<table border=\"1\" class=\"dataframe\">\n",
       "  <thead>\n",
       "    <tr style=\"text-align: right;\">\n",
       "      <th></th>\n",
       "      <th>user</th>\n",
       "      <th>item</th>\n",
       "      <th>time</th>\n",
       "      <th>t</th>\n",
       "      <th>year</th>\n",
       "    </tr>\n",
       "  </thead>\n",
       "  <tbody>\n",
       "    <tr>\n",
       "      <th>2404686</th>\n",
       "      <td>63880</td>\n",
       "      <td>119145</td>\n",
       "      <td>1419022975</td>\n",
       "      <td>2014</td>\n",
       "      <td>2015</td>\n",
       "    </tr>\n",
       "    <tr>\n",
       "      <th>3064009</th>\n",
       "      <td>81663</td>\n",
       "      <td>91535</td>\n",
       "      <td>1323223207</td>\n",
       "      <td>2011</td>\n",
       "      <td>2012</td>\n",
       "    </tr>\n",
       "    <tr>\n",
       "      <th>4617327</th>\n",
       "      <td>123609</td>\n",
       "      <td>89745</td>\n",
       "      <td>1316645274</td>\n",
       "      <td>2011</td>\n",
       "      <td>2012</td>\n",
       "    </tr>\n",
       "    <tr>\n",
       "      <th>4646140</th>\n",
       "      <td>124413</td>\n",
       "      <td>99007</td>\n",
       "      <td>1355791816</td>\n",
       "      <td>2012</td>\n",
       "      <td>2013</td>\n",
       "    </tr>\n",
       "  </tbody>\n",
       "</table>\n",
       "</div>"
      ],
      "text/plain": [
       "           user    item        time     t  year\n",
       "2404686   63880  119145  1419022975  2014  2015\n",
       "3064009   81663   91535  1323223207  2011  2012\n",
       "4617327  123609   89745  1316645274  2011  2012\n",
       "4646140  124413   99007  1355791816  2012  2013"
      ]
     },
     "execution_count": 103,
     "metadata": {},
     "output_type": "execute_result"
    }
   ],
   "source": [
    "df[df.t < df.year]#.item.unique()"
   ]
  },
  {
   "cell_type": "code",
   "execution_count": 105,
   "id": "160bc90f-87d1-407a-a795-966fa613f6ea",
   "metadata": {},
   "outputs": [
    {
     "data": {
      "text/plain": [
       "user    31360\n",
       "item       10\n",
       "dtype: int64"
      ]
     },
     "execution_count": 105,
     "metadata": {},
     "output_type": "execute_result"
    }
   ],
   "source": [
    "sub = pd.read_csv('../eval/sample_submission.csv')\n",
    "sub.nunique()"
   ]
  },
  {
   "cell_type": "code",
   "execution_count": 120,
   "id": "d51be67a-c0dd-496d-b746-1282dc388a01",
   "metadata": {},
   "outputs": [
    {
     "data": {
      "text/html": [
       "<div>\n",
       "<style scoped>\n",
       "    .dataframe tbody tr th:only-of-type {\n",
       "        vertical-align: middle;\n",
       "    }\n",
       "\n",
       "    .dataframe tbody tr th {\n",
       "        vertical-align: top;\n",
       "    }\n",
       "\n",
       "    .dataframe thead th {\n",
       "        text-align: right;\n",
       "    }\n",
       "</style>\n",
       "<table border=\"1\" class=\"dataframe\">\n",
       "  <thead>\n",
       "    <tr style=\"text-align: right;\">\n",
       "      <th></th>\n",
       "      <th>item</th>\n",
       "      <th>genre</th>\n",
       "    </tr>\n",
       "  </thead>\n",
       "  <tbody>\n",
       "    <tr>\n",
       "      <th>0</th>\n",
       "      <td>194</td>\n",
       "      <td>1</td>\n",
       "    </tr>\n",
       "    <tr>\n",
       "      <th>1</th>\n",
       "      <td>194</td>\n",
       "      <td>2</td>\n",
       "    </tr>\n",
       "    <tr>\n",
       "      <th>2</th>\n",
       "      <td>1436</td>\n",
       "      <td>3</td>\n",
       "    </tr>\n",
       "    <tr>\n",
       "      <th>3</th>\n",
       "      <td>1436</td>\n",
       "      <td>4</td>\n",
       "    </tr>\n",
       "    <tr>\n",
       "      <th>4</th>\n",
       "      <td>1436</td>\n",
       "      <td>5</td>\n",
       "    </tr>\n",
       "    <tr>\n",
       "      <th>...</th>\n",
       "      <td>...</td>\n",
       "      <td>...</td>\n",
       "    </tr>\n",
       "    <tr>\n",
       "      <th>15928</th>\n",
       "      <td>6735</td>\n",
       "      <td>2</td>\n",
       "    </tr>\n",
       "    <tr>\n",
       "      <th>15929</th>\n",
       "      <td>3980</td>\n",
       "      <td>3</td>\n",
       "    </tr>\n",
       "    <tr>\n",
       "      <th>15930</th>\n",
       "      <td>3980</td>\n",
       "      <td>6</td>\n",
       "    </tr>\n",
       "    <tr>\n",
       "      <th>15931</th>\n",
       "      <td>2028</td>\n",
       "      <td>6</td>\n",
       "    </tr>\n",
       "    <tr>\n",
       "      <th>15932</th>\n",
       "      <td>3857</td>\n",
       "      <td>18</td>\n",
       "    </tr>\n",
       "  </tbody>\n",
       "</table>\n",
       "<p>15933 rows × 2 columns</p>\n",
       "</div>"
      ],
      "text/plain": [
       "       item  genre\n",
       "0       194      1\n",
       "1       194      2\n",
       "2      1436      3\n",
       "3      1436      4\n",
       "4      1436      5\n",
       "...     ...    ...\n",
       "15928  6735      2\n",
       "15929  3980      3\n",
       "15930  3980      6\n",
       "15931  2028      6\n",
       "15932  3857     18\n",
       "\n",
       "[15933 rows x 2 columns]"
      ]
     },
     "execution_count": 120,
     "metadata": {},
     "output_type": "execute_result"
    }
   ],
   "source": [
    "genres_df = pd.read_csv(\"genres.tsv\", sep=\"\\t\")\n",
    "item2label = {j:i+1 for i,j in enumerate(sorted(genres_df['item'].unique()))}\n",
    "genres_df['item'] = genres_df['item'].map(item2label)\n",
    "array, index = pd.factorize(genres_df[\"genre\"])\n",
    "genres_df[\"genre\"] = [i+1 for i in array]\n",
    "genres_df"
   ]
  },
  {
   "cell_type": "code",
   "execution_count": 204,
   "id": "c1d576e8-5fb3-46d4-8cd4-6ba517ad47da",
   "metadata": {
    "collapsed": true,
    "jupyter": {
     "outputs_hidden": true
    },
    "tags": []
   },
   "outputs": [
    {
     "name": "stdout",
     "output_type": "stream",
     "text": [
      "1902 [1]\n",
      "1915 [1]\n",
      "1916 [1]\n",
      "1917 [1]\n",
      "1919 [1]\n",
      "1920 [1]\n",
      "1921 [1]\n",
      "1922 [3]\n",
      "1923 [2]\n",
      "1924 [5]\n",
      "1925 [6]\n",
      "1926 [2]\n",
      "1927 [5]\n",
      "1928 [6]\n",
      "1929 [5]\n",
      "1930 [4]\n",
      "1931 [10]\n",
      "1932 [9]\n",
      "1933 [12]\n",
      "1934 [8]\n",
      "1935 [8]\n",
      "1936 [13]\n",
      "1937 [14]\n",
      "1938 [13]\n",
      "1939 [27]\n",
      "1940 [20]\n",
      "1941 [18]\n",
      "1942 [19]\n",
      "1943 [10]\n",
      "1944 [17]\n",
      "1945 [19]\n",
      "1946 [18]\n",
      "1947 [19]\n",
      "1948 [25]\n",
      "1949 [22]\n",
      "1950 [22]\n",
      "1951 [19]\n",
      "1952 [18]\n",
      "1953 [31]\n",
      "1954 [24]\n",
      "1955 [37]\n",
      "1956 [26]\n",
      "1957 [27]\n",
      "1958 [28]\n",
      "1959 [32]\n",
      "1960 [33]\n",
      "1961 [25]\n",
      "1962 [38]\n",
      "1963 [29]\n",
      "1964 [38]\n",
      "1965 [37]\n",
      "1966 [37]\n",
      "1967 [35]\n",
      "1968 [32]\n",
      "1969 [28]\n",
      "1970 [33]\n",
      "1971 [43]\n",
      "1972 [44]\n",
      "1973 [49]\n",
      "1974 [39]\n",
      "1975 [35]\n",
      "1976 [38]\n",
      "1977 [43]\n",
      "1978 [44]\n",
      "1979 [53]\n",
      "1980 [52]\n",
      "1981 [60]\n",
      "1982 [63]\n",
      "1983 [62]\n",
      "1984 [69]\n",
      "1985 [88]\n",
      "1986 [87]\n",
      "1987 [95]\n",
      "1988 [106]\n",
      "1989 [100]\n",
      "1990 [100]\n",
      "1991 [94]\n",
      "1992 [121]\n",
      "1993 [132]\n",
      "1994 [138]\n",
      "1995 [158]\n",
      "1996 [166]\n",
      "1997 [159]\n",
      "1998 [175]\n",
      "1999 [192]\n",
      "2000 [197]\n",
      "2001 [222]\n",
      "2002 [242]\n",
      "2003 [236]\n",
      "2004 [262]\n",
      "2005 [260]\n",
      "2006 [284]\n",
      "2007 [271]\n",
      "2008 [256]\n",
      "2009 [247]\n",
      "2010 [213]\n",
      "2011 [185]\n",
      "2012 [140]\n",
      "2013 [134]\n",
      "2014 [76]\n",
      "2015 [1]\n"
     ]
    },
    {
     "ename": "IndexError",
     "evalue": "index 101 is out of bounds for axis 0 with size 101",
     "output_type": "error",
     "traceback": [
      "\u001b[0;31m---------------------------------------------------------------------------\u001b[0m",
      "\u001b[0;31mIndexError\u001b[0m                                Traceback (most recent call last)",
      "Input \u001b[0;32mIn [204]\u001b[0m, in \u001b[0;36m<cell line: 14>\u001b[0;34m()\u001b[0m\n\u001b[1;32m     13\u001b[0m ti \u001b[38;5;241m=\u001b[39m ti[[\u001b[38;5;124m'\u001b[39m\u001b[38;5;124mitem\u001b[39m\u001b[38;5;124m'\u001b[39m, \u001b[38;5;124m'\u001b[39m\u001b[38;5;124myear\u001b[39m\u001b[38;5;124m'\u001b[39m]]\n\u001b[1;32m     14\u001b[0m \u001b[38;5;28;01mfor\u001b[39;00m i \u001b[38;5;129;01min\u001b[39;00m \u001b[38;5;28mrange\u001b[39m(\u001b[38;5;28mlen\u001b[39m(ti)):\n\u001b[0;32m---> 15\u001b[0m     \u001b[38;5;28mprint\u001b[39m(\u001b[43mti\u001b[49m\u001b[38;5;241;43m.\u001b[39;49m\u001b[43mgroupby\u001b[49m\u001b[43m(\u001b[49m\u001b[38;5;124;43m'\u001b[39;49m\u001b[38;5;124;43myear\u001b[39;49m\u001b[38;5;124;43m'\u001b[39;49m\u001b[43m)\u001b[49m\u001b[38;5;241;43m.\u001b[39;49m\u001b[43mcount\u001b[49m\u001b[43m(\u001b[49m\u001b[43m)\u001b[49m\u001b[38;5;241;43m.\u001b[39;49m\u001b[43mindex\u001b[49m\u001b[43m[\u001b[49m\u001b[43mi\u001b[49m\u001b[43m]\u001b[49m, ti\u001b[38;5;241m.\u001b[39mgroupby(\u001b[38;5;124m'\u001b[39m\u001b[38;5;124myear\u001b[39m\u001b[38;5;124m'\u001b[39m)\u001b[38;5;241m.\u001b[39mcount()\u001b[38;5;241m.\u001b[39mvalues[i])\n",
      "File \u001b[0;32m/opt/conda/lib/python3.8/site-packages/pandas/core/indexes/base.py:5039\u001b[0m, in \u001b[0;36mIndex.__getitem__\u001b[0;34m(self, key)\u001b[0m\n\u001b[1;32m   5036\u001b[0m \u001b[38;5;28;01mif\u001b[39;00m is_integer(key) \u001b[38;5;129;01mor\u001b[39;00m is_float(key):\n\u001b[1;32m   5037\u001b[0m     \u001b[38;5;66;03m# GH#44051 exclude bool, which would return a 2d ndarray\u001b[39;00m\n\u001b[1;32m   5038\u001b[0m     key \u001b[38;5;241m=\u001b[39m com\u001b[38;5;241m.\u001b[39mcast_scalar_indexer(key, warn_float\u001b[38;5;241m=\u001b[39m\u001b[38;5;28;01mTrue\u001b[39;00m)\n\u001b[0;32m-> 5039\u001b[0m     \u001b[38;5;28;01mreturn\u001b[39;00m \u001b[43mgetitem\u001b[49m\u001b[43m(\u001b[49m\u001b[43mkey\u001b[49m\u001b[43m)\u001b[49m\n\u001b[1;32m   5041\u001b[0m \u001b[38;5;28;01mif\u001b[39;00m \u001b[38;5;28misinstance\u001b[39m(key, \u001b[38;5;28mslice\u001b[39m):\n\u001b[1;32m   5042\u001b[0m     \u001b[38;5;66;03m# This case is separated from the conditional above to avoid\u001b[39;00m\n\u001b[1;32m   5043\u001b[0m     \u001b[38;5;66;03m# pessimization com.is_bool_indexer and ndim checks.\u001b[39;00m\n\u001b[1;32m   5044\u001b[0m     result \u001b[38;5;241m=\u001b[39m getitem(key)\n",
      "\u001b[0;31mIndexError\u001b[0m: index 101 is out of bounds for axis 0 with size 101"
     ]
    }
   ],
   "source": [
    "ti = pd.read_csv('titles.tsv', sep='\\t')\n",
    "ge = pd.read_csv(\"genres.tsv\", sep=\"\\t\")\n",
    "def year(s):\n",
    "    s = s.split('(')\n",
    "    answer = []\n",
    "    for i in s:\n",
    "        if ')' not in i:\n",
    "            continue\n",
    "        a = re.sub(r'[^0-9]', '', i)\n",
    "        if len(a) == 4:\n",
    "            return a\n",
    "ti['year'] = ti['title'].apply(year)\n",
    "ti = ti[['item', 'year']]\n",
    "for i in range(len(ti)):\n",
    "    print(ti.groupby('year').count().index[i], ti.groupby('year').count().values[i])"
   ]
  },
  {
   "cell_type": "code",
   "execution_count": 223,
   "id": "02e50d3d-ef44-45a5-b471-ab3d96b4eddc",
   "metadata": {},
   "outputs": [
    {
     "data": {
      "text/html": [
       "<div>\n",
       "<style scoped>\n",
       "    .dataframe tbody tr th:only-of-type {\n",
       "        vertical-align: middle;\n",
       "    }\n",
       "\n",
       "    .dataframe tbody tr th {\n",
       "        vertical-align: top;\n",
       "    }\n",
       "\n",
       "    .dataframe thead th {\n",
       "        text-align: right;\n",
       "    }\n",
       "</style>\n",
       "<table border=\"1\" class=\"dataframe\">\n",
       "  <thead>\n",
       "    <tr style=\"text-align: right;\">\n",
       "      <th></th>\n",
       "      <th>item</th>\n",
       "      <th>title</th>\n",
       "    </tr>\n",
       "  </thead>\n",
       "  <tbody>\n",
       "    <tr>\n",
       "      <th>5204</th>\n",
       "      <td>108583</td>\n",
       "      <td>Fawlty Towers (1975-1979)</td>\n",
       "    </tr>\n",
       "  </tbody>\n",
       "</table>\n",
       "</div>"
      ],
      "text/plain": [
       "        item                      title\n",
       "5204  108583  Fawlty Towers (1975-1979)"
      ]
     },
     "execution_count": 223,
     "metadata": {},
     "output_type": "execute_result"
    }
   ],
   "source": [
    "ti = pd.read_csv('titles.tsv', sep='\\t')\n",
    "ti[ti['item']==108583]"
   ]
  },
  {
   "cell_type": "code",
   "execution_count": 222,
   "id": "9f74faf3-52a2-4830-97cd-19afa4576aca",
   "metadata": {},
   "outputs": [
    {
     "data": {
      "text/html": [
       "<div>\n",
       "<style scoped>\n",
       "    .dataframe tbody tr th:only-of-type {\n",
       "        vertical-align: middle;\n",
       "    }\n",
       "\n",
       "    .dataframe tbody tr th {\n",
       "        vertical-align: top;\n",
       "    }\n",
       "\n",
       "    .dataframe thead th {\n",
       "        text-align: right;\n",
       "    }\n",
       "</style>\n",
       "<table border=\"1\" class=\"dataframe\">\n",
       "  <thead>\n",
       "    <tr style=\"text-align: right;\">\n",
       "      <th></th>\n",
       "      <th>item</th>\n",
       "      <th>year</th>\n",
       "    </tr>\n",
       "  </thead>\n",
       "  <tbody>\n",
       "  </tbody>\n",
       "</table>\n",
       "</div>"
      ],
      "text/plain": [
       "Empty DataFrame\n",
       "Columns: [item, year]\n",
       "Index: []"
      ]
     },
     "execution_count": 222,
     "metadata": {},
     "output_type": "execute_result"
    }
   ],
   "source": [
    "ti[ti['item']==108583]"
   ]
  },
  {
   "cell_type": "code",
   "execution_count": 212,
   "id": "ab4d959a-2ef6-45e0-b725-7b649cb59c1c",
   "metadata": {},
   "outputs": [
    {
     "name": "stdout",
     "output_type": "stream",
     "text": [
      "6719\n"
     ]
    }
   ],
   "source": []
  },
  {
   "cell_type": "code",
   "execution_count": 228,
   "id": "a065ca8f-e9d5-4ad1-831b-8d5920c8c8aa",
   "metadata": {},
   "outputs": [],
   "source": [
    "import re\n",
    "ti = pd.read_csv('titles.tsv', sep='\\t')\n",
    "ge = pd.read_csv(\"genres.tsv\", sep=\"\\t\")\n",
    "def year(s):\n",
    "    if s == 'Fawlty Towers (1975-1979)':\n",
    "        return 1975\n",
    "    s = s.split('(')\n",
    "    answer = []\n",
    "    for i in s:\n",
    "        if ')' not in i:\n",
    "            continue\n",
    "        a = re.sub(r'[^0-9]', '', i)\n",
    "        if len(a) == 4:\n",
    "            return a\n",
    "ti['year'] = ti['title'].apply(year)\n",
    "\n",
    "ti = ti[['item', 'year']]\n",
    "def yy(y):\n",
    "    y = int(y)\n",
    "    if y <= 1950:\n",
    "        return 1950\n",
    "    elif y <= 1960:\n",
    "        return 1960\n",
    "    elif y <= 1970:\n",
    "        return 1970\n",
    "    elif y <= 1980:\n",
    "        return 1980\n",
    "    elif y <= 1990:\n",
    "        return 1990\n",
    "    elif y <= 2000:\n",
    "        return 2000\n",
    "    elif y <= 2005:\n",
    "        return 2005\n",
    "    elif y <= 2010:\n",
    "        return 2010\n",
    "    else:\n",
    "        return 2015\n",
    "item2label = {j:i+1 for i,j in enumerate(sorted(ti['item'].unique()))}\n",
    "ti['item'] = ti['item'].map(item2label)\n",
    "\n",
    "#\n",
    "ti['year'] = ti['year'].apply(yy)\n",
    "item2label = {j:i+1+18 for i,j in enumerate((ti['year'].unique()))}\n",
    "ti['year'] = ti['year'].map(item2label)\n",
    "\n",
    "item2label = {j:i+1 for i,j in enumerate(sorted(ge['item'].unique()))}\n",
    "ge['item'] = ge['item'].map(item2label)\n",
    "\n",
    "array, index = pd.factorize(ge[\"genre\"])\n",
    "ge[\"genre\"] = [i+1 for i in array]\n",
    "\n",
    "g = ge.groupby(\"item\")[\"genre\"].apply(list).to_frame()\n",
    "\n",
    "g = pd.merge(g, t, on='item', how='left')\n",
    "\n",
    "value = []\n",
    "\n",
    "for i in range(len(g)):\n",
    "    value.append(g.loc[i].genre + [g.loc[i].year])\n",
    "g['genre'] = value\n",
    "g = g.set_index(g.item)\n",
    "g\n",
    "g = g['genre']\n",
    "g.to_json(\n",
    "        \"Ml_item2attributes.json\"\n",
    "    )"
   ]
  },
  {
   "cell_type": "code",
   "execution_count": 197,
   "id": "dbecc96e-1e76-4b2b-967d-841ab5d91897",
   "metadata": {
    "collapsed": true,
    "jupyter": {
     "outputs_hidden": true
    },
    "tags": []
   },
   "outputs": [
    {
     "data": {
      "text/plain": [
       "array([[  1],\n",
       "       [  1],\n",
       "       [  1],\n",
       "       [  1],\n",
       "       [  1],\n",
       "       [  1],\n",
       "       [  1],\n",
       "       [  3],\n",
       "       [  2],\n",
       "       [  5],\n",
       "       [  6],\n",
       "       [  2],\n",
       "       [  5],\n",
       "       [  6],\n",
       "       [  5],\n",
       "       [  4],\n",
       "       [ 10],\n",
       "       [  9],\n",
       "       [ 12],\n",
       "       [  8],\n",
       "       [  8],\n",
       "       [ 13],\n",
       "       [ 14],\n",
       "       [ 13],\n",
       "       [ 27],\n",
       "       [ 20],\n",
       "       [ 18],\n",
       "       [ 19],\n",
       "       [ 10],\n",
       "       [ 17],\n",
       "       [ 19],\n",
       "       [ 18],\n",
       "       [ 19],\n",
       "       [ 25],\n",
       "       [ 22],\n",
       "       [ 22],\n",
       "       [ 19],\n",
       "       [ 18],\n",
       "       [ 31],\n",
       "       [ 24],\n",
       "       [ 37],\n",
       "       [ 26],\n",
       "       [ 27],\n",
       "       [ 28],\n",
       "       [ 32],\n",
       "       [ 33],\n",
       "       [ 25],\n",
       "       [ 38],\n",
       "       [ 29],\n",
       "       [ 38],\n",
       "       [ 37],\n",
       "       [ 37],\n",
       "       [ 35],\n",
       "       [ 32],\n",
       "       [ 28],\n",
       "       [ 33],\n",
       "       [ 43],\n",
       "       [ 44],\n",
       "       [ 49],\n",
       "       [ 39],\n",
       "       [ 35],\n",
       "       [ 38],\n",
       "       [ 43],\n",
       "       [ 44],\n",
       "       [ 53],\n",
       "       [ 52],\n",
       "       [ 60],\n",
       "       [ 63],\n",
       "       [ 62],\n",
       "       [ 69],\n",
       "       [ 88],\n",
       "       [ 87],\n",
       "       [ 95],\n",
       "       [106],\n",
       "       [100],\n",
       "       [100],\n",
       "       [ 94],\n",
       "       [121],\n",
       "       [132],\n",
       "       [138],\n",
       "       [158],\n",
       "       [166],\n",
       "       [159],\n",
       "       [175],\n",
       "       [192],\n",
       "       [197],\n",
       "       [222],\n",
       "       [242],\n",
       "       [236],\n",
       "       [262],\n",
       "       [260],\n",
       "       [284],\n",
       "       [271],\n",
       "       [256],\n",
       "       [247],\n",
       "       [213],\n",
       "       [185],\n",
       "       [140],\n",
       "       [134],\n",
       "       [ 76],\n",
       "       [  1]])"
      ]
     },
     "execution_count": 197,
     "metadata": {},
     "output_type": "execute_result"
    }
   ],
   "source": [
    "ti.groupby('year').count().values"
   ]
  },
  {
   "cell_type": "code",
   "execution_count": 198,
   "id": "24db9f65-d1e1-4e1a-8971-d4c338124199",
   "metadata": {
    "collapsed": true,
    "jupyter": {
     "outputs_hidden": true
    },
    "tags": []
   },
   "outputs": [
    {
     "data": {
      "text/plain": [
       "array([[  1],\n",
       "       [  1],\n",
       "       [  1],\n",
       "       [  1],\n",
       "       [  1],\n",
       "       [  1],\n",
       "       [  1],\n",
       "       [  3],\n",
       "       [  2],\n",
       "       [  5],\n",
       "       [  6],\n",
       "       [  2],\n",
       "       [  5],\n",
       "       [  6],\n",
       "       [  5],\n",
       "       [  4],\n",
       "       [ 10],\n",
       "       [  9],\n",
       "       [ 12],\n",
       "       [  8],\n",
       "       [  8],\n",
       "       [ 13],\n",
       "       [ 14],\n",
       "       [ 13],\n",
       "       [ 27],\n",
       "       [ 20],\n",
       "       [ 18],\n",
       "       [ 19],\n",
       "       [ 10],\n",
       "       [ 17],\n",
       "       [ 19],\n",
       "       [ 18],\n",
       "       [ 19],\n",
       "       [ 25],\n",
       "       [ 22],\n",
       "       [ 22],\n",
       "       [ 19],\n",
       "       [ 18],\n",
       "       [ 31],\n",
       "       [ 24],\n",
       "       [ 37],\n",
       "       [ 26],\n",
       "       [ 27],\n",
       "       [ 28],\n",
       "       [ 32],\n",
       "       [ 33],\n",
       "       [ 25],\n",
       "       [ 38],\n",
       "       [ 29],\n",
       "       [ 38],\n",
       "       [ 37],\n",
       "       [ 37],\n",
       "       [ 35],\n",
       "       [ 32],\n",
       "       [ 28],\n",
       "       [ 33],\n",
       "       [ 43],\n",
       "       [ 44],\n",
       "       [ 49],\n",
       "       [ 39],\n",
       "       [ 35],\n",
       "       [ 38],\n",
       "       [ 43],\n",
       "       [ 44],\n",
       "       [ 53],\n",
       "       [ 52],\n",
       "       [ 60],\n",
       "       [ 63],\n",
       "       [ 62],\n",
       "       [ 69],\n",
       "       [ 88],\n",
       "       [ 87],\n",
       "       [ 95],\n",
       "       [106],\n",
       "       [100],\n",
       "       [100],\n",
       "       [ 94],\n",
       "       [121],\n",
       "       [132],\n",
       "       [138],\n",
       "       [158],\n",
       "       [166],\n",
       "       [159],\n",
       "       [175],\n",
       "       [192],\n",
       "       [197],\n",
       "       [222],\n",
       "       [242],\n",
       "       [236],\n",
       "       [262],\n",
       "       [260],\n",
       "       [284],\n",
       "       [271],\n",
       "       [256],\n",
       "       [247],\n",
       "       [213],\n",
       "       [185],\n",
       "       [140],\n",
       "       [134],\n",
       "       [ 76],\n",
       "       [  1]])"
      ]
     },
     "execution_count": 198,
     "metadata": {},
     "output_type": "execute_result"
    }
   ],
   "source": [
    "ti = pd.read_csv('titles.tsv', sep='\\t')\n",
    "def year(s):\n",
    "    s = s.split('(')\n",
    "    answer = []\n",
    "    for i in s:\n",
    "        if ')' not in i:\n",
    "            continue\n",
    "        a = re.sub(r'[^0-9]', '', i)\n",
    "        if len(a) == 4:\n",
    "            return a\n",
    "ti['year'] = ti['title'].apply(year)\n",
    "ti = ti[['item', 'year']]\n",
    "ti.groupby('year').count().values"
   ]
  },
  {
   "cell_type": "code",
   "execution_count": 230,
   "id": "b05e2afd-b0dc-4e95-8e10-4cdda0ebdce2",
   "metadata": {},
   "outputs": [],
   "source": [
    "df = pd.read_csv('train_ratings.csv')\n",
    "df.sort_values(by=['user','item']).to_csv('df2.csv',index=False)"
   ]
  },
  {
   "cell_type": "code",
   "execution_count": 231,
   "id": "4d8b8034-8842-4e58-ae41-8cee2fe09816",
   "metadata": {},
   "outputs": [
    {
     "name": "stdout",
     "output_type": "stream",
     "text": [
      "Fri Dec 16 17:43:56 2022       \n",
      "+-----------------------------------------------------------------------------+\n",
      "| NVIDIA-SMI 450.80.02    Driver Version: 450.80.02    CUDA Version: 11.0     |\n",
      "|-------------------------------+----------------------+----------------------+\n",
      "| GPU  Name        Persistence-M| Bus-Id        Disp.A | Volatile Uncorr. ECC |\n",
      "| Fan  Temp  Perf  Pwr:Usage/Cap|         Memory-Usage | GPU-Util  Compute M. |\n",
      "|                               |                      |               MIG M. |\n",
      "|===============================+======================+======================|\n",
      "|   0  Tesla V100-SXM2...  Off  | 00000000:00:05.0 Off |                  Off |\n",
      "| N/A   39C    P0    64W / 300W |  19363MiB / 32510MiB |      0%      Default |\n",
      "|                               |                      |                  N/A |\n",
      "+-------------------------------+----------------------+----------------------+\n",
      "                                                                               \n",
      "+-----------------------------------------------------------------------------+\n",
      "| Processes:                                                                  |\n",
      "|  GPU   GI   CI        PID   Type   Process name                  GPU Memory |\n",
      "|        ID   ID                                                   Usage      |\n",
      "|=============================================================================|\n",
      "+-----------------------------------------------------------------------------+\n"
     ]
    }
   ],
   "source": [
    "!nvidia-smi"
   ]
  },
  {
   "cell_type": "code",
   "execution_count": null,
   "id": "08a4cffa-4b82-4a8d-be11-c20f47fecb8e",
   "metadata": {},
   "outputs": [],
   "source": []
  }
 ],
 "metadata": {
  "kernelspec": {
   "display_name": "Python 3 (ipykernel)",
   "language": "python",
   "name": "python3"
  },
  "language_info": {
   "codemirror_mode": {
    "name": "ipython",
    "version": 3
   },
   "file_extension": ".py",
   "mimetype": "text/x-python",
   "name": "python",
   "nbconvert_exporter": "python",
   "pygments_lexer": "ipython3",
   "version": "3.8.5"
  }
 },
 "nbformat": 4,
 "nbformat_minor": 5
}
